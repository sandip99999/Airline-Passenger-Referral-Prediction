{
  "nbformat": 4,
  "nbformat_minor": 0,
  "metadata": {
    "colab": {
      "private_outputs": true,
      "provenance": [],
      "collapsed_sections": [
        "vncDsAP0Gaoa",
        "FJNUwmbgGyua",
        "w6K7xa23Elo4",
        "yQaldy8SH6Dl",
        "mDgbUHAGgjLW",
        "3RnN4peoiCZX",
        "JlHwYmJAmNHm",
        "35m5QtbWiB9F",
        "PoPl-ycgm1ru",
        "H0kj-8xxnORC",
        "nA9Y7ga8ng1Z",
        "PBTbrJXOngz2",
        "u3PMJOP6ngxN",
        "dauF4eBmngu3",
        "GF8Ens_Soomf",
        "0wOQAZs5pc--",
        "K5QZ13OEpz2H",
        "lQ7QKXXCp7Bj",
        "KSlN3yHqYklG",
        "xiyOF9F70UgQ",
        "-oLEiFgy-5Pf",
        "id1riN9m0vUs",
        "BhH2vgX9EjGr",
        "OB4l2ZhMeS1U",
        "4qY1EAkEfxKe",
        "Fze-IPXLpx6K",
        "fb9ixwSrjuFO",
        "nR3fHHxdRi7e",
        "gIfDvo9L0UH2"
      ],
      "include_colab_link": true
    },
    "kernelspec": {
      "name": "python3",
      "display_name": "Python 3"
    },
    "language_info": {
      "name": "python"
    }
  },
  "cells": [
    {
      "cell_type": "markdown",
      "metadata": {
        "id": "view-in-github",
        "colab_type": "text"
      },
      "source": [
        "<a href=\"https://colab.research.google.com/github/sandip99999/Airline-Passenger-Referral-Prediction/blob/main/Airline_passenger.ipynb\" target=\"_parent\"><img src=\"https://colab.research.google.com/assets/colab-badge.svg\" alt=\"Open In Colab\"/></a>"
      ]
    },
    {
      "cell_type": "markdown",
      "source": [
        "# **Project Name**    - Airline Passenger Referal Prediction\n",
        "\n"
      ],
      "metadata": {
        "id": "vncDsAP0Gaoa"
      }
    },
    {
      "cell_type": "markdown",
      "source": [
        "##### **Project Type**    - Classification\n",
        "##### **Contribution**    - Individual\n",
        "##### **Team Member** - Sandip Dey"
      ],
      "metadata": {
        "id": "beRrZCGUAJYm"
      }
    },
    {
      "cell_type": "markdown",
      "source": [
        "# **Project Summary -**"
      ],
      "metadata": {
        "id": "FJNUwmbgGyua"
      }
    },
    {
      "cell_type": "markdown",
      "source": [
        "Data includes airline reviews from 2006 to 2019 for popular airlines around the world with multiple choice and free text questions. Data is scraped in Spring 2019. The main objectives are to predict whether passengers will refer the airline to their friends.\n",
        "\n",
        "We have Started with data loading and we have done EDA, feature engineering, data cleaning, target encoding feature selection and then model building.\n",
        "So, we have used this models:\n",
        "*\tLogistic Regression Model\n",
        "*\tDecision Tree Model\n",
        "*\tRandom Forest Model\n",
        "*\tSupport Vector Machine Model\n",
        "*\tK-Nearest-Neighbour Model\n",
        "*\tNaïve Bayes\n",
        "\n",
        "*\tWe performed hyperparameter tuning for decision tree models, random forest models, K-Nearest Neighbors, Support Vector Machines, and Naive Bayes using the GridSearch CV method. This is done to improve accuracy and avoid overfitting criteria. After that, we completed the Gradient Boosting model by fine-tuning the hyperparameters.\n",
        "*\tBased on an understanding of the business and problem use cases. The classification metrics for Recall are given first priority, Accuray second priority, and ROC AUC third priority.\n",
        "*\tWe created classifier models using 6 different classifier types, all of which provided over 90% accuracy. We can conclude that LogisticRegression gives the best model.\n",
        "*\tComparing the model evaluation metrics, we can see that the SVM is the most accurate model with a very small margin, and performs the best among the experimental models on the given dataset.\n",
        "*\tThe most important features were overall rating and value for money, which helped the model predict whether passengers would recommend a particular airline to their friends.\n",
        "*\tThe developed classifier models can be used to predict passenger recommendations as they enable airlines to identify influential passengers who can help generate more revenue.\n",
        "*\tTherefore, in order to grow or grow their business, our customers must provide outstanding cabin service, ground handling, entertaining food, beverages and comfortable seating.\n"
      ],
      "metadata": {
        "id": "F6v_1wHtG2nS"
      }
    },
    {
      "cell_type": "markdown",
      "source": [
        "# **GitHub Link -**"
      ],
      "metadata": {
        "id": "w6K7xa23Elo4"
      }
    },
    {
      "cell_type": "markdown",
      "source": [
        "https://github.com/sandip99999/Airline-Passenger-Referral-Prediction"
      ],
      "metadata": {
        "id": "h1o69JH3Eqqn"
      }
    },
    {
      "cell_type": "markdown",
      "source": [
        "# **Problem Statement**\n"
      ],
      "metadata": {
        "id": "yQaldy8SH6Dl"
      }
    },
    {
      "cell_type": "markdown",
      "source": [
        "1. Which Traveller_type has more ratings?\n",
        "\n",
        "2. Which type of Cabin has more recommendation?\n",
        "\n",
        "3. Which type of traveller type is value for money?\n",
        "\n",
        "4. What is distribution of average ratings of Food_bev and entertainment given by the passenger in every class?\n",
        "\n",
        "5. Which cabin type has more recommended based on ground service ratings?\n",
        "\n",
        "6.  Which cabin type has more recomended based on overall service ratings by customers?\n",
        "\n",
        "7. Which airline made highest trips?\n",
        "\n",
        "8. Which cabin type has more recomended based on overall service ratings by customers?\n",
        "\n",
        "9. Comparison of all independent variable/features?"
      ],
      "metadata": {
        "id": "DpeJGUA3kjGy"
      }
    },
    {
      "cell_type": "markdown",
      "source": [
        "# **General Guidelines** : -  "
      ],
      "metadata": {
        "id": "mDgbUHAGgjLW"
      }
    },
    {
      "cell_type": "markdown",
      "source": [
        "1.   Well-structured, formatted, and commented code is required. \n",
        "2.   Exception Handling, Production Grade Code & Deployment Ready Code will be a plus. Those students will be awarded some additional credits. \n",
        "     \n",
        "     The additional credits will have advantages over other students during Star Student selection.\n",
        "       \n",
        "             [ Note: - Deployment Ready Code is defined as, the whole .ipynb notebook should be executable in one go\n",
        "                       without a single error logged. ]\n",
        "\n",
        "3.   Each and every logic should have proper comments.\n",
        "4. You may add as many number of charts you want. Make Sure for each and every chart the following format should be answered.\n",
        "        \n",
        "\n",
        "```\n",
        "# Chart visualization code\n",
        "```\n",
        "            \n",
        "\n",
        "*   Why did you pick the specific chart?\n",
        "*   What is/are the insight(s) found from the chart?\n",
        "* Will the gained insights help creating a positive business impact? \n",
        "Are there any insights that lead to negative growth? Justify with specific reason.\n",
        "\n",
        "5. You have to create at least 15 logical & meaningful charts having important insights.\n",
        "\n",
        "\n",
        "[ Hints : - Do the Vizualization in  a structured way while following \"UBM\" Rule. \n",
        "\n",
        "U - Univariate Analysis,\n",
        "\n",
        "B - Bivariate Analysis (Numerical - Categorical, Numerical - Numerical, Categorical - Categorical)\n",
        "\n",
        "M - Multivariate Analysis\n",
        " ]\n",
        "\n",
        "\n",
        "\n",
        "\n",
        "\n",
        "6. You may add more ml algorithms for model creation. Make sure for each and every algorithm, the following format should be answered.\n",
        "\n",
        "\n",
        "*   Explain the ML Model used and it's performance using Evaluation metric Score Chart.\n",
        "\n",
        "\n",
        "*   Cross- Validation & Hyperparameter Tuning\n",
        "\n",
        "*   Have you seen any improvement? Note down the improvement with updates Evaluation metric Score Chart.\n",
        "\n",
        "*   Explain each evaluation metric's indication towards business and the business impact pf the ML model used.\n",
        "\n",
        "\n",
        "\n",
        "\n",
        "\n",
        "\n",
        "\n",
        "\n",
        "\n",
        "\n",
        "\n",
        "\n",
        "\n",
        "\n",
        "\n",
        "\n",
        "\n",
        "\n"
      ],
      "metadata": {
        "id": "ZrxVaUj-hHfC"
      }
    },
    {
      "cell_type": "markdown",
      "source": [
        "# ***Let's Begin !***"
      ],
      "metadata": {
        "id": "O_i_v8NEhb9l"
      }
    },
    {
      "cell_type": "markdown",
      "source": [
        "## ***1. Know Your Data***"
      ],
      "metadata": {
        "id": "HhfV-JJviCcP"
      }
    },
    {
      "cell_type": "markdown",
      "source": [
        "### Import Libraries"
      ],
      "metadata": {
        "id": "Y3lxredqlCYt"
      }
    },
    {
      "cell_type": "code",
      "source": [
        "# Import Libraries\n",
        "import pandas as pd\n",
        "import numpy as np\n",
        "import matplotlib.pyplot as plt\n",
        "import seaborn as sns\n",
        "%matplotlib inline\n",
        "\n",
        "import lightgbm\n",
        "import warnings\n",
        "warnings.filterwarnings('ignore')\n",
        "\n",
        "from statsmodels.stats.outliers_influence import variance_inflation_factor\n",
        "from sklearn.preprocessing import LabelEncoder\n",
        "from sklearn.preprocessing import OneHotEncoder\n",
        "from sklearn.model_selection import train_test_split, GridSearchCV,  cross_val_score"
      ],
      "metadata": {
        "id": "M8Vqi-pPk-HR"
      },
      "execution_count": null,
      "outputs": []
    },
    {
      "cell_type": "code",
      "source": [
        "# Importing all models from sklearn to be used in our model building\n",
        "from sklearn.linear_model import LogisticRegression\n",
        "from sklearn.ensemble import RandomForestClassifier\n",
        "from sklearn.tree import DecisionTreeClassifier\n",
        "from sklearn.neighbors import KNeighborsClassifier\n",
        "from sklearn.svm import SVC\n",
        "from sklearn.naive_bayes import GaussianNB\n",
        "from sklearn.svm import LinearSVC\n",
        "import time\n",
        "from sklearn.naive_bayes import MultinomialNB"
      ],
      "metadata": {
        "id": "vi93QDgOHyqk"
      },
      "execution_count": null,
      "outputs": []
    },
    {
      "cell_type": "code",
      "source": [
        "# Importing  metrics for evaluation for our models\n",
        "from sklearn import metrics\n",
        "from sklearn.metrics import classification_report,confusion_matrix\n",
        "from sklearn.metrics import accuracy_score,precision_score\n",
        "from sklearn.metrics import recall_score,f1_score,roc_curve, roc_auc_score"
      ],
      "metadata": {
        "id": "twqn_IYnIRiP"
      },
      "execution_count": null,
      "outputs": []
    },
    {
      "cell_type": "code",
      "source": [
        "!pip install shap==0.40.0\n",
        "import shap \n",
        "import graphviz\n",
        "sns.set_style('darkgrid') "
      ],
      "metadata": {
        "id": "Kbz2H9mGV2cL"
      },
      "execution_count": null,
      "outputs": []
    },
    {
      "cell_type": "markdown",
      "source": [
        "### Dataset Loading"
      ],
      "metadata": {
        "id": "3RnN4peoiCZX"
      }
    },
    {
      "cell_type": "code",
      "source": [
        "# Load Dataset\n",
        "from google.colab import drive\n",
        "drive.mount('/content/drive')"
      ],
      "metadata": {
        "id": "4CkvbW_SlZ_R"
      },
      "execution_count": null,
      "outputs": []
    },
    {
      "cell_type": "code",
      "source": [
        "airline_df1=pd.read_excel(r\"/content/drive/MyDrive/Colab Notebooks/Airline_passenger_referal_prediction/data_airline_reviews.xlsx\")"
      ],
      "metadata": {
        "id": "R1LRwdXYCKUB"
      },
      "execution_count": null,
      "outputs": []
    },
    {
      "cell_type": "markdown",
      "source": [
        "### Dataset First View"
      ],
      "metadata": {
        "id": "x71ZqKXriCWQ"
      }
    },
    {
      "cell_type": "code",
      "source": [
        "# Dataset First Look\n",
        "airline_df1.head(5)"
      ],
      "metadata": {
        "id": "LWNFOSvLl09H"
      },
      "execution_count": null,
      "outputs": []
    },
    {
      "cell_type": "code",
      "source": [
        "airline_df1.tail(5)"
      ],
      "metadata": {
        "id": "S_6drw7ZlC4q"
      },
      "execution_count": null,
      "outputs": []
    },
    {
      "cell_type": "markdown",
      "source": [
        "### Dataset Rows & Columns count"
      ],
      "metadata": {
        "id": "7hBIi_osiCS2"
      }
    },
    {
      "cell_type": "code",
      "source": [
        "# Dataset Rows & Columns count\n",
        "print(f\"This dataset has {airline_df1.shape[0]} row and {airline_df1.shape[1]} columns\")"
      ],
      "metadata": {
        "id": "Kllu7SJgmLij"
      },
      "execution_count": null,
      "outputs": []
    },
    {
      "cell_type": "markdown",
      "source": [
        "we have 17 columns and 131895 rows in our data."
      ],
      "metadata": {
        "id": "E_JafkVDnZRZ"
      }
    },
    {
      "cell_type": "markdown",
      "source": [
        "### Dataset Information"
      ],
      "metadata": {
        "id": "JlHwYmJAmNHm"
      }
    },
    {
      "cell_type": "code",
      "source": [
        "# Dataset Info\n",
        "airline_df1.info()"
      ],
      "metadata": {
        "id": "e9hRXRi6meOf"
      },
      "execution_count": null,
      "outputs": []
    },
    {
      "cell_type": "markdown",
      "source": [
        "#### Duplicate Values"
      ],
      "metadata": {
        "id": "35m5QtbWiB9F"
      }
    },
    {
      "cell_type": "code",
      "source": [
        "# Dataset Duplicate Value Count\n",
        "airline_df1.duplicated().sum()"
      ],
      "metadata": {
        "id": "1sLdpKYkmox0"
      },
      "execution_count": null,
      "outputs": []
    },
    {
      "cell_type": "markdown",
      "source": [
        "This dataset have 70711 duplicate values"
      ],
      "metadata": {
        "id": "dtN5WQVMnrLv"
      }
    },
    {
      "cell_type": "code",
      "source": [
        "#Drop all Duplicate value from the Dataset\n",
        "airline_df1.drop_duplicates(inplace=True)"
      ],
      "metadata": {
        "id": "iEfErjCZnh38"
      },
      "execution_count": null,
      "outputs": []
    },
    {
      "cell_type": "code",
      "source": [
        "#Final check of Duplicate value\n",
        "airline_df1.duplicated().sum()"
      ],
      "metadata": {
        "id": "GPl5KkG8nh-C"
      },
      "execution_count": null,
      "outputs": []
    },
    {
      "cell_type": "code",
      "source": [
        "#New shape of dataset\n",
        "airline_df1.shape"
      ],
      "metadata": {
        "id": "q0FjXaKsnh6e"
      },
      "execution_count": null,
      "outputs": []
    },
    {
      "cell_type": "markdown",
      "source": [
        "#### Missing Values/Null Values"
      ],
      "metadata": {
        "id": "PoPl-ycgm1ru"
      }
    },
    {
      "cell_type": "code",
      "source": [
        "#copy the dataset\n",
        "airline_df=airline_df1.copy()"
      ],
      "metadata": {
        "id": "rgHhjet-b9wp"
      },
      "execution_count": null,
      "outputs": []
    },
    {
      "cell_type": "code",
      "source": [
        "#print 1st 2row of dataset\n",
        "airline_df.head(2)"
      ],
      "metadata": {
        "id": "ZMDokjrvcsvW"
      },
      "execution_count": null,
      "outputs": []
    },
    {
      "cell_type": "code",
      "source": [
        "# Missing Values/Null Values Count\n",
        "airline_df.isnull().sum()"
      ],
      "metadata": {
        "id": "GgHWkxvamxVg"
      },
      "execution_count": null,
      "outputs": []
    },
    {
      "cell_type": "code",
      "source": [
        "# Visualizing the missing values\n",
        "airline_df.isnull().sum().plot(kind=\"bar\")\n",
        "plt.show()"
      ],
      "metadata": {
        "id": "3q5wnI3om9sJ"
      },
      "execution_count": null,
      "outputs": []
    },
    {
      "cell_type": "markdown",
      "source": [
        "### What did you know about your dataset?"
      ],
      "metadata": {
        "id": "H0kj-8xxnORC"
      }
    },
    {
      "cell_type": "markdown",
      "source": [
        "Air transport or aviation plays a very important role in the present transport structure of the world and surely it is considered the gift of the twentieth century to the world. In today’s fast-paced world, air transport has been a blessing to all because of its speed of transportation. This mode of transport is very useful to get the products with short delivery times quickly and safely to those who require it also allows the tourism industry in each country to have stable growth by shortening the distance among all the people who inhabit the world. Here, I have a dataset regarding the ratings of services provided by different airlines to customers. The main objective of this project is to understand how likely the passengers will recommend the airlines to others. The dataset here is quite large which initially had 131895 rows and 17 columns. On checking the data information, it was derived that there were basically two different types of data in the dataset there are 7 columns of floats64, data types 10 columns with object types. Coming to the null values and missing values in the dataset, it was observed that there was a mismatch in the non-null counts which clearly stated that a large number of missing and null values were present in the dataset.\n",
        "\n",
        "Data is scrapped in the Spring of 2019 from the Skytrax website. Data includes airline reviews from 2006 to 2019 for popular airlines around the world with multiple-choice and free-text questions. The main objective is to predict whether passengers will refer the airline to them or not."
      ],
      "metadata": {
        "id": "gfoNAAC-nUe_"
      }
    },
    {
      "cell_type": "markdown",
      "source": [
        "## ***2. Understanding Your Variables***"
      ],
      "metadata": {
        "id": "nA9Y7ga8ng1Z"
      }
    },
    {
      "cell_type": "code",
      "source": [
        "# Dataset Columns\n",
        "airline_df.columns"
      ],
      "metadata": {
        "id": "j7xfkqrt5Ag5"
      },
      "execution_count": null,
      "outputs": []
    },
    {
      "cell_type": "code",
      "source": [
        "# Dataset Describe\n",
        "airline_df.describe().T"
      ],
      "metadata": {
        "id": "DnOaZdaE5Q5t"
      },
      "execution_count": null,
      "outputs": []
    },
    {
      "cell_type": "markdown",
      "source": [
        "### Variables Description "
      ],
      "metadata": {
        "id": "PBTbrJXOngz2"
      }
    },
    {
      "cell_type": "markdown",
      "source": [
        "**Feature descriptions briefly as follows:**\n",
        "\n",
        "1. airline: Name of the airline.\n",
        "\n",
        "2. overall: Overall point is given to the trip between 1 to 10.\n",
        "\n",
        "3. author: Author of the trip\n",
        "\n",
        "4. review date: Date of the Review\n",
        "\n",
        "5. customer review:Review of the customers in free text format\n",
        "\n",
        "6. aircraft: Type of the aircraft\n",
        "\n",
        "7. traveller type: Type of traveler (e.g. business, leisure)\n",
        "\n",
        "8. cabin: Cabin at the flight date flown: Flight date\n",
        "\n",
        "9. seat comfort: Rated between 1-5\n",
        "\n",
        "10. cabin service: Rated between 1-5\n",
        "\n",
        "11. foodbev: Rated between 1-5\n",
        "\n",
        "12. entertainment: Rated between 1-5\n",
        "\n",
        "13. ground service: Rated between 1-5\n",
        "\n",
        "14. value for money: Rated between 1-5\n",
        "\n",
        "15. recommended: Binary, target variable."
      ],
      "metadata": {
        "id": "aJV4KIxSnxay"
      }
    },
    {
      "cell_type": "markdown",
      "source": [
        "### Check Unique Values for each variable."
      ],
      "metadata": {
        "id": "u3PMJOP6ngxN"
      }
    },
    {
      "cell_type": "code",
      "source": [
        "# Check Unique Values for each variable.\n",
        "airline_df.nunique()"
      ],
      "metadata": {
        "id": "zms12Yq5n-jE"
      },
      "execution_count": null,
      "outputs": []
    },
    {
      "cell_type": "markdown",
      "source": [
        "## 3. ***Data Wrangling***"
      ],
      "metadata": {
        "id": "dauF4eBmngu3"
      }
    },
    {
      "cell_type": "markdown",
      "source": [
        "### Data Wrangling Code"
      ],
      "metadata": {
        "id": "bKJF3rekwFvQ"
      }
    },
    {
      "cell_type": "code",
      "source": [
        "# Write your code to make your dataset analysis ready.\n",
        "def missing_value(df):\n",
        "    percentage_missing=airline_df.isnull().sum()*100/len(airline_df)\n",
        "    missing_value_df=pd.DataFrame({\"column_name\":airline_df.columns,\"percentage_missing\":percentage_missing})\n",
        "    return missing_value_df.sort_values(\"percentage_missing\",ascending=False)"
      ],
      "metadata": {
        "id": "wk-9a2fpoLcV"
      },
      "execution_count": null,
      "outputs": []
    },
    {
      "cell_type": "code",
      "source": [
        "#Checking Percentage wise missing values.\n",
        "missing_value(airline_df)"
      ],
      "metadata": {
        "id": "4LGpb26U6Rcu"
      },
      "execution_count": null,
      "outputs": []
    },
    {
      "cell_type": "code",
      "source": [
        "#Showing the unique aircraft names\n",
        "airline_df.aircraft.unique()"
      ],
      "metadata": {
        "id": "Y2ae-obT6chK"
      },
      "execution_count": null,
      "outputs": []
    },
    {
      "cell_type": "code",
      "source": [
        "#checking the number of unique aircrafts\n",
        "airline_df.aircraft.nunique()"
      ],
      "metadata": {
        "id": "nAjk5X1n6cpa"
      },
      "execution_count": null,
      "outputs": []
    },
    {
      "cell_type": "markdown",
      "source": [
        "Droping the aircraft column from data as it have highest null values."
      ],
      "metadata": {
        "id": "fNukPDf-6ssW"
      }
    },
    {
      "cell_type": "code",
      "source": [
        "#drop aircraft column\n",
        "airline_df = airline_df.drop(['aircraft'],axis = 1)"
      ],
      "metadata": {
        "id": "tpSBjabc6nM4"
      },
      "execution_count": null,
      "outputs": []
    },
    {
      "cell_type": "code",
      "source": [
        "#droping the columns from data which are not for our use\n",
        "airline_df = airline_df.drop(['author','review_date','route','date_flown','customer_review'],axis = 1)\n",
        "airline_df.head()"
      ],
      "metadata": {
        "id": "Tghkz09d6nUZ"
      },
      "execution_count": null,
      "outputs": []
    },
    {
      "cell_type": "code",
      "source": [
        "#Splitting the Numeric column\n",
        "low_null = ['overall','seat_comfort','cabin_service','value_for_money']\n",
        "high_null = ['food_bev','entertainment','ground_service']"
      ],
      "metadata": {
        "id": "HGYCjEaAAyu0"
      },
      "execution_count": null,
      "outputs": []
    },
    {
      "cell_type": "code",
      "source": [
        "#Imputation technique using Quantile-1 value\n",
        "def impute_by_q1_values(df,column):\n",
        "  Q1=np.percentile(np.sort(df[column].dropna()),25)\n",
        "  df[column].fillna(Q1,inplace=True)"
      ],
      "metadata": {
        "id": "KIV3JD5VAy2o"
      },
      "execution_count": null,
      "outputs": []
    },
    {
      "cell_type": "code",
      "source": [
        "#Looping the null value column\n",
        "for col in low_null:\n",
        "  impute_by_q1_values(airline_df,col)"
      ],
      "metadata": {
        "id": "7zh3x4sHAzCB"
      },
      "execution_count": null,
      "outputs": []
    },
    {
      "cell_type": "markdown",
      "source": [
        "Imputed null values by Quantile-1 for the columns have low null value percentage."
      ],
      "metadata": {
        "id": "udSJvS9wBV7b"
      }
    },
    {
      "cell_type": "code",
      "source": [
        "#Imputation technique using Median Imputation\n",
        "def median_imputation(df,column):\n",
        "  df[column].fillna(df[column].median(),inplace=True)"
      ],
      "metadata": {
        "id": "mPYFhKwyBQCf"
      },
      "execution_count": null,
      "outputs": []
    },
    {
      "cell_type": "code",
      "source": [
        "#Looping the null value column\n",
        "for col in high_null:\n",
        "  median_imputation(airline_df,col)"
      ],
      "metadata": {
        "id": "mD3-hsWVBQFi"
      },
      "execution_count": null,
      "outputs": []
    },
    {
      "cell_type": "markdown",
      "source": [
        "Imputed null values by Median Imputaion for the columns have high percetage."
      ],
      "metadata": {
        "id": "yzWwqaelBiZO"
      }
    },
    {
      "cell_type": "code",
      "source": [
        "#after imputed null values\n",
        "airline_df.head(5)"
      ],
      "metadata": {
        "id": "z28n_ZS8BhXY"
      },
      "execution_count": null,
      "outputs": []
    },
    {
      "cell_type": "code",
      "source": [
        "#Remove recommended null value row\n",
        "airline_df.dropna(subset=['recommended'],inplace=True)"
      ],
      "metadata": {
        "id": "yNCwm2LoBQIw"
      },
      "execution_count": null,
      "outputs": []
    },
    {
      "cell_type": "code",
      "source": [
        "#replaces the NULL values with the value from the previous row\n",
        "airline_df['traveller_type'].fillna(method=\"ffill\",inplace=True)"
      ],
      "metadata": {
        "id": "bjtDneuSBQMQ"
      },
      "execution_count": null,
      "outputs": []
    },
    {
      "cell_type": "code",
      "source": [
        " ##replaces the NULL values with mode\n",
        " airline_df['cabin'].fillna(airline_df['cabin'].mode().values[0],inplace=True)"
      ],
      "metadata": {
        "id": "0TYeeEpeB4AK"
      },
      "execution_count": null,
      "outputs": []
    },
    {
      "cell_type": "markdown",
      "source": [
        "Filling traveller_type column with Mode Imputation\n",
        "\n",
        "cabin column with Forward fill method."
      ],
      "metadata": {
        "id": "ywuhBy4eCu12"
      }
    },
    {
      "cell_type": "code",
      "source": [
        "airline_df.head(5)"
      ],
      "metadata": {
        "id": "pt-BkShBB4I-"
      },
      "execution_count": null,
      "outputs": []
    },
    {
      "cell_type": "code",
      "source": [
        "#Checking the new null value percentage\n",
        "missing_value(airline_df)"
      ],
      "metadata": {
        "id": "UzrLIvIqCGDe"
      },
      "execution_count": null,
      "outputs": []
    },
    {
      "cell_type": "code",
      "source": [
        "#shape of dataset\n",
        "airline_df.shape"
      ],
      "metadata": {
        "id": "3PsvuOhrCIgl"
      },
      "execution_count": null,
      "outputs": []
    },
    {
      "cell_type": "markdown",
      "source": [
        "It is better to work with clean data for prediction rather than huge corrupt data"
      ],
      "metadata": {
        "id": "fphiqu9yCRi6"
      }
    },
    {
      "cell_type": "markdown",
      "source": [
        "### What all manipulations have you done and insights you found?"
      ],
      "metadata": {
        "id": "MSa1f5Uengrz"
      }
    },
    {
      "cell_type": "markdown",
      "source": [
        "**Reason of droping columns--**\n",
        "\n",
        "1. Author - Being the categorical with high Variability not required for prediction.\n",
        "2. Route - Not needed for building a model as it is independent of the Services and Quality of travel.\n",
        "3. Date_flown - Not needed for building a model as it is not a time series data, also some common time period is there between 2 dates.\n",
        "4. Review_date - Similar to Date_flown\n",
        "5. Customer_review - As it is related to overall review feature of the datasets.\n",
        "On the basis of null value percentage we divide our data in two parts-\n",
        "\n",
        "high_null = columns which have high percentage of null values.\n",
        "\n",
        "\n",
        "low_null = columns which have low percentage of null values"
      ],
      "metadata": {
        "id": "LbyXE7I1olp8"
      }
    },
    {
      "cell_type": "markdown",
      "source": [
        "## ***4. Data Vizualization, Storytelling & Experimenting with charts : Understand the relationships between variables***"
      ],
      "metadata": {
        "id": "GF8Ens_Soomf"
      }
    },
    {
      "cell_type": "markdown",
      "source": [
        "#### Chart -1 Which Traveller_type has more ratings?"
      ],
      "metadata": {
        "id": "0wOQAZs5pc--"
      }
    },
    {
      "cell_type": "code",
      "source": [
        "airline_df.head(2)"
      ],
      "metadata": {
        "id": "t9JXNnhfbHnn"
      },
      "execution_count": null,
      "outputs": []
    },
    {
      "cell_type": "code",
      "source": [
        "# Chart - 1 visualization code\n",
        "plt.figure(figsize=(10,5))\n",
        "sns.countplot(x=airline_df['traveller_type'])\n",
        "plt.show()"
      ],
      "metadata": {
        "id": "7v_ESjsspbW7"
      },
      "execution_count": null,
      "outputs": []
    },
    {
      "cell_type": "markdown",
      "source": [
        "##### 1. Why did you pick the specific chart?"
      ],
      "metadata": {
        "id": "K5QZ13OEpz2H"
      }
    },
    {
      "cell_type": "markdown",
      "source": [
        "I picked this specific chart for check that which traveller_type has more ratings"
      ],
      "metadata": {
        "id": "XESiWehPqBRc"
      }
    },
    {
      "cell_type": "markdown",
      "source": [
        "##### 2. What is/are the insight(s) found from the chart?"
      ],
      "metadata": {
        "id": "lQ7QKXXCp7Bj"
      }
    },
    {
      "cell_type": "markdown",
      "source": [
        "**From above plot**\n",
        "\n",
        "Travelling type of Solo Leisure has more ratings"
      ],
      "metadata": {
        "id": "C_j1G7yiqdRP"
      }
    },
    {
      "cell_type": "markdown",
      "source": [
        "##### 3. Will the gained insights help creating a positive business impact? \n",
        "Are there any insights that lead to negative growth? Justify with specific reason."
      ],
      "metadata": {
        "id": "448CDAPjqfQr"
      }
    },
    {
      "cell_type": "markdown",
      "source": [
        "* In the airplane most of the traveler are solo Leisure followed by Couple Leisure,Business and Famaly Leisure.We should focus on Famaily Leisre so that more famaily memeber travel together in the flight. "
      ],
      "metadata": {
        "id": "3cspy4FjqxJW"
      }
    },
    {
      "cell_type": "markdown",
      "source": [
        "#### Chart - 2 Which type of Cabin has more recommendation?"
      ],
      "metadata": {
        "id": "KSlN3yHqYklG"
      }
    },
    {
      "cell_type": "code",
      "source": [
        "airline_df.head(2)"
      ],
      "metadata": {
        "id": "KSJRmF8bbNNi"
      },
      "execution_count": null,
      "outputs": []
    },
    {
      "cell_type": "code",
      "source": [
        "# Chart - 2 visualization code\n",
        "plt.figure(figsize=(10,5))\n",
        "sns.countplot(x=airline_df['cabin'],hue=airline_df['recommended'])\n",
        "plt.show()"
      ],
      "metadata": {
        "id": "R4YgtaqtYklH"
      },
      "execution_count": null,
      "outputs": []
    },
    {
      "cell_type": "markdown",
      "source": [
        "##### 1. Why did you pick the specific chart?"
      ],
      "metadata": {
        "id": "t6dVpIINYklI"
      }
    },
    {
      "cell_type": "markdown",
      "source": [
        "I pick this specific chart for check which type of Cabin has more recommendation from coustomer."
      ],
      "metadata": {
        "id": "5aaW0BYyYklI"
      }
    },
    {
      "cell_type": "markdown",
      "source": [
        "##### 2. What is/are the insight(s) found from the chart?"
      ],
      "metadata": {
        "id": "ijmpgYnKYklI"
      }
    },
    {
      "cell_type": "markdown",
      "source": [
        "**On the basis of above graph -**\n",
        "\n",
        "1. Economy class has highest recommendation with bad reviews.\n",
        "\n",
        "2. Business class has second most recommended cabin type with good reviews.\n",
        "\n",
        "3. premium economy has equal reviews.\n",
        "\n",
        "4. first class is least recommend cabin type with good reviews."
      ],
      "metadata": {
        "id": "PSx9atu2YklI"
      }
    },
    {
      "cell_type": "markdown",
      "source": [
        "##### 3. Will the gained insights help creating a positive business impact? \n",
        "Are there any insights that lead to negative growth? Justify with specific reason."
      ],
      "metadata": {
        "id": "-JiQyfWJYklI"
      }
    },
    {
      "cell_type": "markdown",
      "source": [
        "* Here we can see that most of the traveler travel in the Economy Class and very less taveler travel in the Premium and First class.\n",
        "\n",
        "\n",
        "* In the Business class about 50% of traveler are not recommended to the other traveler and also same as First class for that reason we should make some effort in business for more recommendation by traveler.\n",
        "\n",
        "\n",
        "* In the Economy class about 30% pessengers are not recommended the other so this is also a drawback of business. "
      ],
      "metadata": {
        "id": "BcBbebzrYklV"
      }
    },
    {
      "cell_type": "markdown",
      "source": [
        "#### Chart - 3 Which type of traveller type is value for money?"
      ],
      "metadata": {
        "id": "EM7whBJCYoAo"
      }
    },
    {
      "cell_type": "code",
      "source": [
        "airline_df.head(2)"
      ],
      "metadata": {
        "id": "bjbAiFufcjWy"
      },
      "execution_count": null,
      "outputs": []
    },
    {
      "cell_type": "code",
      "source": [
        "# Chart - 3 visualization code\n",
        "airline_df.groupby(\"traveller_type\")['value_for_money'].mean().plot(kind=\"bar\",color=('r',\"b\"),figsize=(10,6))\n",
        "plt.show()"
      ],
      "metadata": {
        "id": "t6GMdE67YoAp"
      },
      "execution_count": null,
      "outputs": []
    },
    {
      "cell_type": "markdown",
      "source": [
        "##### 1. Why did you pick the specific chart?"
      ],
      "metadata": {
        "id": "fge-S5ZAYoAp"
      }
    },
    {
      "cell_type": "markdown",
      "source": [
        "I chose this chart for show that Which type of traveller type is value for money for coustomer."
      ],
      "metadata": {
        "id": "5dBItgRVYoAp"
      }
    },
    {
      "cell_type": "markdown",
      "source": [
        "##### 2. What is/are the insight(s) found from the chart?"
      ],
      "metadata": {
        "id": "85gYPyotYoAp"
      }
    },
    {
      "cell_type": "markdown",
      "source": [
        "**From above plot**\n",
        "\n",
        "We can say thet travelling Type of Solo Leisure worth of Money compare to other type of travelling."
      ],
      "metadata": {
        "id": "4jstXR6OYoAp"
      }
    },
    {
      "cell_type": "markdown",
      "source": [
        "##### 3. Will the gained insights help creating a positive business impact? \n",
        "Are there any insights that lead to negative growth? Justify with specific reason."
      ],
      "metadata": {
        "id": "RoGjAbkUYoAp"
      }
    },
    {
      "cell_type": "markdown",
      "source": [
        "Solo Leisure traveling type gives best rating in value for money section compare to other type of traveling. this is a positive sign of business. "
      ],
      "metadata": {
        "id": "zfJ8IqMcYoAp"
      }
    },
    {
      "cell_type": "markdown",
      "source": [
        "#### Chart - 4 What is distribution of average ratings of Food_bev and entertainment given by the passenger in every class?"
      ],
      "metadata": {
        "id": "6VDNaUQ6hY7z"
      }
    },
    {
      "cell_type": "code",
      "source": [
        "airline_df.head(2)"
      ],
      "metadata": {
        "id": "YHCkhwUGf0hx"
      },
      "execution_count": null,
      "outputs": []
    },
    {
      "cell_type": "code",
      "source": [
        "# Chart - 4 visualization code\n",
        "airline_df.groupby(\"cabin\")[\"food_bev\",'entertainment'].mean().plot(kind=\"bar\",figsize=(10,6))\n",
        "plt.show()"
      ],
      "metadata": {
        "id": "irlUoxc8YrdO"
      },
      "execution_count": null,
      "outputs": []
    },
    {
      "cell_type": "markdown",
      "source": [
        "##### 1. Why did you pick the specific chart?"
      ],
      "metadata": {
        "id": "iky9q4vBYrdO"
      }
    },
    {
      "cell_type": "markdown",
      "source": [
        "I picked this specific chart for show that the distribution of average ratings of Food_bev and entertainment given by the passenger in every class."
      ],
      "metadata": {
        "id": "aJRCwT6DYrdO"
      }
    },
    {
      "cell_type": "markdown",
      "source": [
        "##### 2. What is/are the insight(s) found from the chart?"
      ],
      "metadata": {
        "id": "F6T5p64dYrdO"
      }
    },
    {
      "cell_type": "markdown",
      "source": [
        "**From above plot**\n",
        "\n",
        "\n",
        "1. In Businss Class the average ratings of Food_bev and entertainment given by passenger is highest.\n",
        "\n",
        "\n",
        "2. In Economy Class the average ratings of Food_bev and entertainment given by passenger is lowest."
      ],
      "metadata": {
        "id": "Xx8WAJvtYrdO"
      }
    },
    {
      "cell_type": "markdown",
      "source": [
        "##### 3. Will the gained insights help creating a positive business impact? \n",
        "Are there any insights that lead to negative growth? Justify with specific reason."
      ],
      "metadata": {
        "id": "y-Ehk30pYrdP"
      }
    },
    {
      "cell_type": "markdown",
      "source": [
        "In Economy Class the average ratings of Food_bev and entertainment given by passenger is lowest thats why we need to improve airplain's Food_bev and entertainment in Economy section."
      ],
      "metadata": {
        "id": "jLNxxz7MYrdP"
      }
    },
    {
      "cell_type": "markdown",
      "source": [
        "#### Chart - 5 Which cabin type has more recomended based on ground service ratings?"
      ],
      "metadata": {
        "id": "bamQiAODYuh1"
      }
    },
    {
      "cell_type": "code",
      "source": [
        "airline_df.head(2)"
      ],
      "metadata": {
        "id": "ECmUOi3vjqZT"
      },
      "execution_count": null,
      "outputs": []
    },
    {
      "cell_type": "code",
      "source": [
        "# Chart - 5 visualization code\n",
        "plt.figure(figsize=(10,5))\n",
        "sns.boxplot(x=airline_df['cabin'],y=airline_df['cabin_service'],hue= airline_df['recommended'], palette= ['blue','red'])\n",
        "plt.show()"
      ],
      "metadata": {
        "id": "Hq_iUtfxlO4W"
      },
      "execution_count": null,
      "outputs": []
    },
    {
      "cell_type": "markdown",
      "source": [
        "##### 1. Why did you pick the specific chart?"
      ],
      "metadata": {
        "id": "QHF8YVU7Yuh3"
      }
    },
    {
      "cell_type": "markdown",
      "source": [
        " I pick the specific graph to check which cabin type has more recomended based on ground service ratings."
      ],
      "metadata": {
        "id": "dcxuIMRPYuh3"
      }
    },
    {
      "cell_type": "markdown",
      "source": [
        "##### 2. What is/are the insight(s) found from the chart?"
      ],
      "metadata": {
        "id": "GwzvFGzlYuh3"
      }
    },
    {
      "cell_type": "markdown",
      "source": [
        "**From above plot its showed that**\n",
        "\n",
        "1. First class travellers are least likely to recommend the airlines.\n",
        "\n",
        "2. Recommendation is most probable when the cabin service is given star rating greater then 4.\n",
        "\n",
        "3. In economy class if we got ratings between 4 to 5 that means airlines recommended."
      ],
      "metadata": {
        "id": "uyqkiB8YYuh3"
      }
    },
    {
      "cell_type": "markdown",
      "source": [
        "##### 3. Will the gained insights help creating a positive business impact? \n",
        "Are there any insights that lead to negative growth? Justify with specific reason."
      ],
      "metadata": {
        "id": "qYpmQ266Yuh3"
      }
    },
    {
      "cell_type": "markdown",
      "source": [
        "* from the insight we come to conclution that we should focus on cabin service improvement because it has direct relation with recommendation.\n",
        "\n",
        "* Improve First class traveler service for more recommendation."
      ],
      "metadata": {
        "id": "_WtzZ_hCYuh4"
      }
    },
    {
      "cell_type": "markdown",
      "source": [
        "#### Chart - 6 Which cabin type has more recomended based on overall service ratings by customers?"
      ],
      "metadata": {
        "id": "OH-pJp9IphqM"
      }
    },
    {
      "cell_type": "code",
      "source": [
        "airline_df.head(2)"
      ],
      "metadata": {
        "id": "llEE0JLVz4LT"
      },
      "execution_count": null,
      "outputs": []
    },
    {
      "cell_type": "code",
      "source": [
        "for i in range(1,11):\n",
        "  x= airline_df[airline_df['overall']==i]['recommended'].value_counts()\n",
        "  print(f\"when overall rating= {i}\\n\",x)"
      ],
      "metadata": {
        "id": "Y0aQCRyX2j-Q"
      },
      "execution_count": null,
      "outputs": []
    },
    {
      "cell_type": "code",
      "source": [
        "# Chart - 6 visualization code\n",
        "plt.figure(figsize=(10,5))\n",
        "sns.boxplot(x=airline_df['cabin'],y=airline_df['overall'],hue= airline_df['recommended'], palette= ['blue','red'])\n",
        "plt.show()"
      ],
      "metadata": {
        "id": "kuRf4wtuphqN"
      },
      "execution_count": null,
      "outputs": []
    },
    {
      "cell_type": "markdown",
      "source": [
        "##### 1. Why did you pick the specific chart?"
      ],
      "metadata": {
        "id": "bbFf2-_FphqN"
      }
    },
    {
      "cell_type": "markdown",
      "source": [
        "I picked this specific chart for show that which cabin type has more recomended based on overall service ratings by customers."
      ],
      "metadata": {
        "id": "loh7H2nzphqN"
      }
    },
    {
      "cell_type": "markdown",
      "source": [
        "##### 2. What is/are the insight(s) found from the chart?"
      ],
      "metadata": {
        "id": "_ouA3fa0phqN"
      }
    },
    {
      "cell_type": "markdown",
      "source": [
        "**From above plot**\n",
        "1. If the trip is rated above 8 for overall section, the trip is most likely be recommended by the travellers.\n",
        "\n",
        "2. If it is below 3 , the unhappy travellers has not referred the airlines to their friends irrespective of their cabin type."
      ],
      "metadata": {
        "id": "VECbqPI7phqN"
      }
    },
    {
      "cell_type": "markdown",
      "source": [
        "##### 3. Will the gained insights help creating a positive business impact? \n",
        "Are there any insights that lead to negative growth? Justify with specific reason."
      ],
      "metadata": {
        "id": "Seke61FWphqN"
      }
    },
    {
      "cell_type": "markdown",
      "source": [
        "* When travelers give more than 8 rating they recommended the others so from this insight we can say that we need to improve overall experience of the traveler for more recommendation."
      ],
      "metadata": {
        "id": "DW4_bGpfphqN"
      }
    },
    {
      "cell_type": "markdown",
      "source": [
        "#### Chart - 7 .Which airline made highest trips?"
      ],
      "metadata": {
        "id": "PIIx-8_IphqN"
      }
    },
    {
      "cell_type": "code",
      "source": [
        "airline_df.head(2)"
      ],
      "metadata": {
        "id": "s52ywVPLbKFz"
      },
      "execution_count": null,
      "outputs": []
    },
    {
      "cell_type": "code",
      "source": [
        "sns.countplot(data=airline_df,x='airline',hue='recommended')"
      ],
      "metadata": {
        "id": "jfLgvKXnAEcr"
      },
      "execution_count": null,
      "outputs": []
    },
    {
      "cell_type": "code",
      "source": [
        "# Chart - 7 visualization code\n",
        "airline_df['airline'].value_counts()[:10].plot(kind='bar',figsize=(10,5),color='red')\n",
        "plt.show()"
      ],
      "metadata": {
        "id": "lqAIGUfyphqO"
      },
      "execution_count": null,
      "outputs": []
    },
    {
      "cell_type": "markdown",
      "source": [
        "##### 1. Why did you pick the specific chart?"
      ],
      "metadata": {
        "id": "t27r6nlMphqO"
      }
    },
    {
      "cell_type": "markdown",
      "source": [
        "I pick this chart for observed that which airline made highest trips?"
      ],
      "metadata": {
        "id": "iv6ro40sphqO"
      }
    },
    {
      "cell_type": "markdown",
      "source": [
        "##### 2. What is/are the insight(s) found from the chart?"
      ],
      "metadata": {
        "id": "r2jJGEOYphqO"
      }
    },
    {
      "cell_type": "markdown",
      "source": [
        "\n",
        "**From the above plot we have observed that the top 10 airlines with most trips are-**\n",
        "\n",
        "1. Spirit Airlines\n",
        "\n",
        "2. American Airlines\n",
        "\n",
        "3. United Airlines\n",
        "\n",
        "4. British Airways\n",
        "\n",
        "5. Emirates\n",
        "\n",
        "6. china southern airline\n",
        "\n",
        "7. frontier airlines\n",
        "\n",
        "8. ryanair\n",
        "\n",
        "9. delta air lines\n",
        "\n",
        "10. turkish airlines"
      ],
      "metadata": {
        "id": "Po6ZPi4hphqO"
      }
    },
    {
      "cell_type": "markdown",
      "source": [
        "#### Chart - 8 Which cabin type has more recomended based on overall service ratings by customers?"
      ],
      "metadata": {
        "id": "BZR9WyysphqO"
      }
    },
    {
      "cell_type": "code",
      "source": [
        "airline_df.head(2)"
      ],
      "metadata": {
        "id": "pBZTu6fPfurm"
      },
      "execution_count": null,
      "outputs": []
    },
    {
      "cell_type": "code",
      "source": [
        "# Chart - 8 visualization code\n",
        "plt.figure(figsize=(10,5))\n",
        "sns.boxplot(x=airline_df['cabin'],y=airline_df['seat_comfort'],hue= airline_df['recommended'], palette= ['blue','red'])\n",
        "plt.show()"
      ],
      "metadata": {
        "id": "TdPTWpAVphqO"
      },
      "execution_count": null,
      "outputs": []
    },
    {
      "cell_type": "markdown",
      "source": [
        "##### 1. Why did you pick the specific chart?"
      ],
      "metadata": {
        "id": "jj7wYXLtphqO"
      }
    },
    {
      "cell_type": "markdown",
      "source": [
        "I picked this specific chart for show that which cabin type has more recomended based on seat comfort ratings by customers."
      ],
      "metadata": {
        "id": "Ob8u6rCTphqO"
      }
    },
    {
      "cell_type": "markdown",
      "source": [
        "##### 2. What is/are the insight(s) found from the chart?"
      ],
      "metadata": {
        "id": "eZrbJ2SmphqO"
      }
    },
    {
      "cell_type": "markdown",
      "source": [
        "**From above plot**\n",
        "1. If the trip is rated above 3 for seat comfort section, the trip is most likely be recommended by the travellers in Economy class but in Business class,Premium Class or First class \n",
        "\n",
        "2. If the trip is rated above 4 for seat comfort section, the trip is most likely be recommended by the travellersin Business class, Premium Class and theFirst class.\n",
        "\n",
        "3. If it is below 3 , the unhappy travellers has not referred the airlines to their friends irrespective of their cabin type and in the First class section it is below 4."
      ],
      "metadata": {
        "id": "mZtgC_hjphqO"
      }
    },
    {
      "cell_type": "markdown",
      "source": [
        "##### 3. Will the gained insights help creating a positive business impact? \n",
        "Are there any insights that lead to negative growth? Justify with specific reason."
      ],
      "metadata": {
        "id": "rFu4xreNphqO"
      }
    },
    {
      "cell_type": "markdown",
      "source": [
        "* When traveler give more than 4 rating in seat comfort section they mostly recommended the others so that from this insight we can say that we need to improve seat comfort of the traveler for more recommendation.\n",
        "\n",
        "* In Business, First and Premium class is positively relate with traveller recommendation. When they give more than 4 rating chances of recommendation goes high.This is the sign of positive growth in business"
      ],
      "metadata": {
        "id": "ey_0qi68phqO"
      }
    },
    {
      "cell_type": "markdown",
      "source": [
        "#### Chart - 9 Comparison of all independent variable/features?"
      ],
      "metadata": {
        "id": "YJ55k-q6phqO"
      }
    },
    {
      "cell_type": "code",
      "source": [
        "airline_df.head(2)"
      ],
      "metadata": {
        "id": "21-VYtEDmpOy"
      },
      "execution_count": null,
      "outputs": []
    },
    {
      "cell_type": "code",
      "source": [
        "# Chart - 9 visualization code\n",
        "#frequency distribution using histgram\n",
        "airline_df.hist(bins=50, figsize=(20,15),color = 'blue')\n",
        "plt.show()"
      ],
      "metadata": {
        "id": "B2aS4O1ophqO"
      },
      "execution_count": null,
      "outputs": []
    },
    {
      "cell_type": "markdown",
      "source": [
        "##### 1. Why did you pick the specific chart?"
      ],
      "metadata": {
        "id": "gCFgpxoyphqP"
      }
    },
    {
      "cell_type": "markdown",
      "source": [
        "For compare of all independent variable/features in the dataset"
      ],
      "metadata": {
        "id": "TVxDimi2phqP"
      }
    },
    {
      "cell_type": "markdown",
      "source": [
        "##### 2. What is/are the insight(s) found from the chart?"
      ],
      "metadata": {
        "id": "OVtJsKN_phqQ"
      }
    },
    {
      "cell_type": "markdown",
      "source": [
        "**From above plot**\n",
        "\n",
        "1. The overall feature ratings of 1 to 2 occur more frequently.\n",
        "\n",
        "2. From Seat comfort feature, We can say that rating of 1 is highest and rating of 4 is the second highest.\n",
        "\n",
        "3. From cabin service feature, We can say that rating of 5 is highest and rating of 1 is the second highest.\n",
        "\n",
        "4. The food bev feature ratings of 2,4 and 5 are varies equally.Which means their frequency are approximately equal.\n",
        "\n",
        "5. The features of both the entertainment & ground service, We can say that ratings of 3 is highest and ratings of 1 is the second highest.\n",
        "\n",
        "6. From value for money feature, It clearly shows that most of the passenger gives ratings of 1 as highest. From this we can say that most of the airline does not provide good service to passenger."
      ],
      "metadata": {
        "id": "ngGi97qjphqQ"
      }
    },
    {
      "cell_type": "markdown",
      "source": [
        "#### Chart - 10 - Correlation Heatmap"
      ],
      "metadata": {
        "id": "NC_X3p0fY2L0"
      }
    },
    {
      "cell_type": "code",
      "source": [
        "airline_df.head(2)"
      ],
      "metadata": {
        "id": "-Yv-9uK3mm3I"
      },
      "execution_count": null,
      "outputs": []
    },
    {
      "cell_type": "markdown",
      "source": [
        "Converting target as categorical data into numerical data: 'Label Encoding'"
      ],
      "metadata": {
        "id": "UtvW98qomBQl"
      }
    },
    {
      "cell_type": "code",
      "source": [
        "#converting targeted column\n",
        "airline_df['recommended'].replace({'yes':1,'no':0},inplace=True)"
      ],
      "metadata": {
        "id": "INbxaUpCkBnE"
      },
      "execution_count": null,
      "outputs": []
    },
    {
      "cell_type": "code",
      "source": [
        "# Correlation Heatmap visualization code\n",
        "plt.figure(figsize=(8,6))\n",
        "sns.heatmap(airline_df.corr(), annot=True)\n",
        "plt.show()"
      ],
      "metadata": {
        "id": "xyC9zolEZNRQ"
      },
      "execution_count": null,
      "outputs": []
    },
    {
      "cell_type": "markdown",
      "source": [
        "##### 1. Why did you pick the specific chart?"
      ],
      "metadata": {
        "id": "UV0SzAkaZNRQ"
      }
    },
    {
      "cell_type": "markdown",
      "source": [
        "Correlation heatmaps can be used to find potential relationships between variables and to understand the strength of these relationships."
      ],
      "metadata": {
        "id": "DVPuT8LYZNRQ"
      }
    },
    {
      "cell_type": "markdown",
      "source": [
        "##### 2. What is/are the insight(s) found from the chart?"
      ],
      "metadata": {
        "id": "YPEH6qLeZNRQ"
      }
    },
    {
      "cell_type": "markdown",
      "source": [
        "**We can infer the following from the above correlation heatmap -**\n",
        "\n",
        "1. Value for money and overall are highly correlated to each other.\n",
        "\n",
        "2. overall and recommended are highly correlated to each other. \n",
        "\n",
        "3. cabin service and value for money is highly correlated with recommended.\n",
        "\n",
        "4. seat comfort and cabin service are very correlated to value for money.\n",
        "\n",
        "5. value for money and recommended are highly correlated to each other.\n",
        "\n",
        "6. Entertainment and ground service are very low correlated to each other.\n",
        "\n",
        "7. Entertainment and recommended are low correlated to each other."
      ],
      "metadata": {
        "id": "bfSqtnDqZNRR"
      }
    },
    {
      "cell_type": "markdown",
      "source": [
        "#### Chart - 11 - Pair Plot "
      ],
      "metadata": {
        "id": "q29F0dvdveiT"
      }
    },
    {
      "cell_type": "code",
      "source": [
        "airline_df.head(2)"
      ],
      "metadata": {
        "id": "lzlqkYcamieS"
      },
      "execution_count": null,
      "outputs": []
    },
    {
      "cell_type": "code",
      "source": [
        "# Pair Plot visualization code\n",
        "fig = plt.figure(figsize=(15, 8))\n",
        "sns.pairplot(airline_df)\n",
        "plt.show()"
      ],
      "metadata": {
        "id": "o58-TEIhveiU"
      },
      "execution_count": null,
      "outputs": []
    },
    {
      "cell_type": "markdown",
      "source": [
        "##### 1. Why did you pick the specific chart?"
      ],
      "metadata": {
        "id": "EXh0U9oCveiU"
      }
    },
    {
      "cell_type": "markdown",
      "source": [
        "to understand the best set of features to explain a relationship between two variables or to form the most separated clusters"
      ],
      "metadata": {
        "id": "eMmPjTByveiU"
      }
    },
    {
      "cell_type": "markdown",
      "source": [
        "##### 2. What is/are the insight(s) found from the chart?"
      ],
      "metadata": {
        "id": "22aHeOlLveiV"
      }
    },
    {
      "cell_type": "markdown",
      "source": [
        "In here the pairplot is not helpfull for analysis."
      ],
      "metadata": {
        "id": "uPQ8RGwHveiV"
      }
    },
    {
      "cell_type": "markdown",
      "source": [
        "## ***6. Feature Engineering & Data Pre-processing***"
      ],
      "metadata": {
        "id": "yLjJCtPM0KBk"
      }
    },
    {
      "cell_type": "markdown",
      "source": [
        "### 1.Checking multicollinearity between variables"
      ],
      "metadata": {
        "id": "xiyOF9F70UgQ"
      }
    },
    {
      "cell_type": "code",
      "source": [
        "airline_df.head(2)"
      ],
      "metadata": {
        "id": "CrA0BAJbiDme"
      },
      "execution_count": null,
      "outputs": []
    },
    {
      "cell_type": "code",
      "source": [
        "#drop object value column\n",
        "airline_df_num=airline_df.drop(['airline','traveller_type','cabin'],axis=1)"
      ],
      "metadata": {
        "id": "rSRS-nkqiIKy"
      },
      "execution_count": null,
      "outputs": []
    },
    {
      "cell_type": "code",
      "source": [
        "airline_df_num.head(2)"
      ],
      "metadata": {
        "id": "efYF-dYsiIOS"
      },
      "execution_count": null,
      "outputs": []
    },
    {
      "cell_type": "code",
      "source": [
        "# calculating VIF for each feature\n",
        "vif_data = pd.DataFrame()\n",
        "vif_data[\"feature\"] = airline_df_num.columns\n",
        "vif_data[\"VIF\"] = [variance_inflation_factor(airline_df_num.values, i) for i in range (len(airline_df_num.columns))]\n",
        "  \n",
        "print(vif_data)"
      ],
      "metadata": {
        "id": "iRsAHk1K0fpS"
      },
      "execution_count": null,
      "outputs": []
    },
    {
      "cell_type": "markdown",
      "source": [
        "#### What multicollinearity techniques have you used and why did you use those techniques?"
      ],
      "metadata": {
        "id": "7wuGOrhz0itI"
      }
    },
    {
      "cell_type": "markdown",
      "source": [
        "Here I use VIF for detect multicollinearity betwwn variable.\n",
        "\n",
        "The variance inflation factor (VIF) directly measures the ratio of the variance of the entire model to the variance of a model with only the feature in question.\n",
        "\n",
        "In layman’s terms, it gauges how much a feature’s inclusion contributes to the overall variance of the coefficients of the features in the model.\n",
        "\n",
        "A VIF of 1 indicates that the feature has no correlation with any of the other features.\n",
        "\n",
        "Typically, a VIF value exceeding 5 or 10 is deemed to be too high. Any feature with such VIF values is likely to be contributing to multicollinearity."
      ],
      "metadata": {
        "id": "Wk2LJS2BlryG"
      }
    },
    {
      "cell_type": "markdown",
      "source": [
        "### 2. Feature  Selection"
      ],
      "metadata": {
        "id": "-oLEiFgy-5Pf"
      }
    },
    {
      "cell_type": "code",
      "source": [
        "# Drop overall column\n",
        "airline_df.drop([\"overall\"], axis = 1, inplace = True)"
      ],
      "metadata": {
        "id": "BYSYFy5HoQfT"
      },
      "execution_count": null,
      "outputs": []
    },
    {
      "cell_type": "code",
      "source": [
        "# Drop airline column\n",
        "airline_df.drop([\"airline\"], axis = 1, inplace = True)"
      ],
      "metadata": {
        "id": "YLhe8UmaBCEE"
      },
      "execution_count": null,
      "outputs": []
    },
    {
      "cell_type": "markdown",
      "source": [
        "##### What all feature selection methods have you used  and why?"
      ],
      "metadata": {
        "id": "pEMng2IbBLp7"
      }
    },
    {
      "cell_type": "markdown",
      "source": [
        "* Here we Drop overall column as it has highest correlation value than others.\n",
        "\n",
        "\n",
        "* Here we are dropping airline column from our data as it is no usecase further"
      ],
      "metadata": {
        "id": "rb2Lh6Z8BgGs"
      }
    },
    {
      "cell_type": "markdown",
      "source": [
        "### 3. Handling Outliers"
      ],
      "metadata": {
        "id": "id1riN9m0vUs"
      }
    },
    {
      "cell_type": "code",
      "source": [
        "airline_df.info()"
      ],
      "metadata": {
        "id": "z-Cvx6oJpIWc"
      },
      "execution_count": null,
      "outputs": []
    },
    {
      "cell_type": "code",
      "source": [
        "# Handling Outliers & Outlier treatments\n",
        "# draw boxplot of numeric values of the dataset\n",
        "plt.figure(figsize=(18, 18))\n",
        "for i, col in enumerate(airline_df.select_dtypes(include=[\"float\",'int']).columns):\n",
        "    ax = plt.subplot(3,3, i+1)\n",
        "    sns.boxplot(data=airline_df, x=col, ax=ax,color='r')\n",
        "plt.suptitle('Box Plot of continuous variables')\n",
        "plt.tight_layout()"
      ],
      "metadata": {
        "id": "M6w2CzZf04JK"
      },
      "execution_count": null,
      "outputs": []
    },
    {
      "cell_type": "markdown",
      "source": [
        "##### What all outlier treatment techniques have you used and why did you use those techniques?"
      ],
      "metadata": {
        "id": "578E2V7j08f6"
      }
    },
    {
      "cell_type": "markdown",
      "source": [
        "As we can see above there are no outliers presents"
      ],
      "metadata": {
        "id": "uGZz5OrT1HH-"
      }
    },
    {
      "cell_type": "markdown",
      "source": [
        "### 4. Categorical Encoding"
      ],
      "metadata": {
        "id": "89xtkJwZ18nB"
      }
    },
    {
      "cell_type": "code",
      "source": [
        "# Encode your categorical columns\n",
        "categorical_features=list(airline_df.select_dtypes(['object']).columns)\n",
        "categorical_features=pd.Index(categorical_features)\n",
        "categorical_features"
      ],
      "metadata": {
        "id": "21JmIYMG2hEo"
      },
      "execution_count": null,
      "outputs": []
    },
    {
      "cell_type": "code",
      "source": [
        "#separating the dependent and independent variables\n",
        "y = airline_df['recommended']\n",
        "x = airline_df.drop(columns = 'recommended')"
      ],
      "metadata": {
        "id": "NJBBRfmmsQsg"
      },
      "execution_count": null,
      "outputs": []
    },
    {
      "cell_type": "code",
      "source": [
        "x.columns"
      ],
      "metadata": {
        "id": "RqjlkE6QsXDQ"
      },
      "execution_count": null,
      "outputs": []
    },
    {
      "cell_type": "code",
      "source": [
        "def one_hot_encoding(data, column):\n",
        "    data = pd.concat([data, pd.get_dummies(data[column], prefix=column, drop_first=True)], axis=1)\n",
        "    data = data.drop([column], axis=1)\n",
        "    return data\n",
        "\n",
        "for col in categorical_features:\n",
        "    x = one_hot_encoding(x, col)\n",
        "x.head()  "
      ],
      "metadata": {
        "id": "kN1wUa2HqxuW"
      },
      "execution_count": null,
      "outputs": []
    },
    {
      "cell_type": "code",
      "source": [
        "x.shape"
      ],
      "metadata": {
        "id": "mxI-H60PqxxK"
      },
      "execution_count": null,
      "outputs": []
    },
    {
      "cell_type": "code",
      "source": [
        "print(\"The Percentage of No labels of Target Variable is\",np.round(y.value_counts()[0]/len(y)*100))\n",
        "print(\"The Percentage of Yes labels of Target Variable is\",np.round(y.value_counts()[1]/len(y)*100))"
      ],
      "metadata": {
        "id": "-dlHbVyJtaOU"
      },
      "execution_count": null,
      "outputs": []
    },
    {
      "cell_type": "markdown",
      "source": [
        "**The Percentage of both labels('yes','no) is approximately equal. So no need of Handling Class Imbalance technique**"
      ],
      "metadata": {
        "id": "l8xTsvYEtfv2"
      }
    },
    {
      "cell_type": "markdown",
      "source": [
        "#### What all categorical encoding techniques have you used & why did you use those techniques?"
      ],
      "metadata": {
        "id": "67NQN5KX2AMe"
      }
    },
    {
      "cell_type": "markdown",
      "source": [
        "***In here I used OdinalEncoder on the dataset***\n",
        "\n",
        "* OdinalEncoder is used when the variables in the data are ordinal, ordinal encoding converts each label into integer values and the encoded data represents the sequence of labels.\n",
        "\n",
        "* In One-Hot Encoding, each category of any categorical variable gets a new variable. It maps each category with binary numbers (0 or 1). This type of encoding is used when the data is nominal. Newly created binary features can be considered dummy variables. After one hot encoding, the number of dummy variables depends on the number of categories presented in the data."
      ],
      "metadata": {
        "id": "UDaue5h32n_G"
      }
    },
    {
      "cell_type": "markdown",
      "source": [
        "### 5. Data Splitting"
      ],
      "metadata": {
        "id": "BhH2vgX9EjGr"
      }
    },
    {
      "cell_type": "code",
      "source": [
        "# Split your data to train and test. Choose Splitting ratio wisely.\n",
        "#train and test split\n",
        "x_train, x_test, y_train, y_test = train_test_split( x,y , test_size = 0.2, random_state = 42)"
      ],
      "metadata": {
        "id": "0CTyd2UwEyNM"
      },
      "execution_count": null,
      "outputs": []
    },
    {
      "cell_type": "code",
      "source": [
        "#shape of y_train and y_test data\n",
        "print(y_train.shape)\n",
        "print(y_test.shape)"
      ],
      "metadata": {
        "id": "zdlFU5kzt7MK"
      },
      "execution_count": null,
      "outputs": []
    },
    {
      "cell_type": "code",
      "source": [
        "#shape of x_train and x_test data\n",
        "print(x_train.shape)\n",
        "print(x_test.shape)"
      ],
      "metadata": {
        "id": "VBV_keNAt7Ir"
      },
      "execution_count": null,
      "outputs": []
    },
    {
      "cell_type": "markdown",
      "source": [
        "##### What data splitting ratio have you used and why? "
      ],
      "metadata": {
        "id": "qjKvONjwE8ra"
      }
    },
    {
      "cell_type": "markdown",
      "source": [
        "The foregoing data splitting methods can be implemented once we specify a splitting ratio. A commonly used ratio is 80:20, which means 80% of the data is for training and 20% for testing which I did in here. Other ratios such as 70:30, 60:40, and even 50:50 are also used in practice. There does not seem to be clear guidance on what ratio is best or optimal for a given dataset. The 80:20 split draws its justification from the well-known Pareto principle, but that is again just a thumb rule used by practitioners."
      ],
      "metadata": {
        "id": "Y2lJ8cobFDb_"
      }
    },
    {
      "cell_type": "markdown",
      "source": [
        "## ***7. ML Model Implementation***"
      ],
      "metadata": {
        "id": "VfCC591jGiD4"
      }
    },
    {
      "cell_type": "markdown",
      "source": [
        "### ML Model - 1 Fitting Logistic Regression"
      ],
      "metadata": {
        "id": "OB4l2ZhMeS1U"
      }
    },
    {
      "cell_type": "code",
      "source": [
        "# ML Model - 1 Implementation\n",
        "\n",
        "# Fit the Algorithm\n",
        "\n",
        "# Predict on the model\n",
        "#logistic regression fitting \n",
        "log_reg = LogisticRegression(fit_intercept=True, max_iter=10000)\n",
        "log_reg.fit(x_train, y_train)\n"
      ],
      "metadata": {
        "id": "7ebyywQieS1U"
      },
      "execution_count": null,
      "outputs": []
    },
    {
      "cell_type": "code",
      "source": [
        "log_reg.coef_"
      ],
      "metadata": {
        "id": "Bh5pI_mcJtp3"
      },
      "execution_count": null,
      "outputs": []
    },
    {
      "cell_type": "code",
      "source": [
        "log_reg.intercept_"
      ],
      "metadata": {
        "id": "-BzTXFFmJttA"
      },
      "execution_count": null,
      "outputs": []
    },
    {
      "cell_type": "code",
      "source": [
        "log_reg.score(x_train,y_train)"
      ],
      "metadata": {
        "id": "UcHTg-2Sh_qZ"
      },
      "execution_count": null,
      "outputs": []
    },
    {
      "cell_type": "code",
      "source": [
        "log_reg.score(x_test,y_test)"
      ],
      "metadata": {
        "id": "YoIh_M1QJ1O5"
      },
      "execution_count": null,
      "outputs": []
    },
    {
      "cell_type": "markdown",
      "source": [
        "#### 1. Explain the ML Model used and it's performance using Evaluation metric Score Chart."
      ],
      "metadata": {
        "id": "ArJBuiUVfxKd"
      }
    },
    {
      "cell_type": "code",
      "source": [
        "# Get the predicted probabilities\n",
        "train_preds = log_reg.predict_proba(x_train)\n",
        "test_preds = log_reg.predict_proba(x_test)"
      ],
      "metadata": {
        "id": "HhXj2JGGmIlU"
      },
      "execution_count": null,
      "outputs": []
    },
    {
      "cell_type": "code",
      "source": [
        "test_preds"
      ],
      "metadata": {
        "id": "F3LRm7AqmIxm"
      },
      "execution_count": null,
      "outputs": []
    },
    {
      "cell_type": "code",
      "source": [
        "train_preds = log_reg.predict_proba(x_train)[:,1]\n",
        "test_preds =log_reg.predict_proba(x_test)[:,1]"
      ],
      "metadata": {
        "id": "PC6E_IMdmIzz"
      },
      "execution_count": null,
      "outputs": []
    },
    {
      "cell_type": "code",
      "source": [
        "test_preds"
      ],
      "metadata": {
        "id": "-HJIdgSHmI2r"
      },
      "execution_count": null,
      "outputs": []
    },
    {
      "cell_type": "code",
      "source": [
        "# Get the predicted classes\n",
        "train_class_preds = log_reg.predict(x_train)\n",
        "test_class_preds = log_reg.predict(x_test)"
      ],
      "metadata": {
        "id": "nVhTtIywmI6i"
      },
      "execution_count": null,
      "outputs": []
    },
    {
      "cell_type": "code",
      "source": [
        "train_class_preds"
      ],
      "metadata": {
        "id": "PCRGi4IDmYPg"
      },
      "execution_count": null,
      "outputs": []
    },
    {
      "cell_type": "code",
      "source": [
        "# Get the accuracy scores\n",
        "train_accuracy = accuracy_score(train_class_preds,y_train)\n",
        "test_accuracy = accuracy_score(test_class_preds,y_test)\n",
        "\n",
        "print(\"The accuracy on train data is \", train_accuracy)\n",
        "print(\"The accuracy on test data is \", test_accuracy)"
      ],
      "metadata": {
        "id": "RAzbII3YKPz9"
      },
      "execution_count": null,
      "outputs": []
    },
    {
      "cell_type": "code",
      "source": [
        "# Get the confusion matrix for both train and test\n",
        "cm = confusion_matrix(y_train, train_class_preds)\n",
        "print(cm)\n",
        "\n",
        "ax= plt.subplot()\n",
        "sns.heatmap(cm, annot=True, ax = ax) #annot=True to annotate cells\n",
        "\n",
        "# labels, title and ticks\n",
        "ax.set_xlabel('Predicted labels')\n",
        "ax.set_ylabel('True labels')\n",
        "ax.set_title('Confusion Matrix')"
      ],
      "metadata": {
        "id": "yss-asjcKP5R"
      },
      "execution_count": null,
      "outputs": []
    },
    {
      "cell_type": "code",
      "source": [
        "# Get the confusion matrix for both train and test\n",
        "cm = confusion_matrix(y_test, test_class_preds)\n",
        "print(cm)\n",
        "\n",
        "ax= plt.subplot()\n",
        "sns.heatmap(cm, annot=True, ax = ax); #annot=True to annotate cells\n",
        "\n",
        "# labels, title and ticks\n",
        "ax.set_xlabel('Predicted labels')\n",
        "ax.set_ylabel('True labels')\n",
        "ax.set_title('Confusion Matrix')"
      ],
      "metadata": {
        "id": "qSsDasMammHY"
      },
      "execution_count": null,
      "outputs": []
    },
    {
      "cell_type": "markdown",
      "source": [
        "#### 2. Cross- Validation & Hyperparameter Tuning"
      ],
      "metadata": {
        "id": "4qY1EAkEfxKe"
      }
    },
    {
      "cell_type": "code",
      "source": [
        "# ML Model - 1 Implementation with hyperparameter optimization techniques (i.e., GridSearch CV, RandomSearch CV, Bayesian Optimization etc.)\n",
        "\n",
        "# Fit the Algorithm\n",
        "\n",
        "# Predict on the model\n",
        "logistic = LogisticRegression()"
      ],
      "metadata": {
        "id": "Dy61ujd6fxKe"
      },
      "execution_count": null,
      "outputs": []
    },
    {
      "cell_type": "code",
      "source": [
        "#import libery\n",
        "from sklearn.model_selection import cross_val_score\n",
        "from sklearn.model_selection import cross_validate"
      ],
      "metadata": {
        "id": "RSfm3NdbKPxr"
      },
      "execution_count": null,
      "outputs": []
    },
    {
      "cell_type": "code",
      "source": [
        "scoring = ['accuracy']"
      ],
      "metadata": {
        "id": "yxVJgiqIkjR7"
      },
      "execution_count": null,
      "outputs": []
    },
    {
      "cell_type": "code",
      "source": [
        "scoring = ['accuracy']\n",
        "scores = cross_validate(logistic,x_train, y_train, scoring = scoring, cv =10, return_train_score=True,return_estimator=True,verbose = 10)"
      ],
      "metadata": {
        "id": "gsm-KupHmmK1"
      },
      "execution_count": null,
      "outputs": []
    },
    {
      "cell_type": "code",
      "source": [
        "scores['train_accuracy']"
      ],
      "metadata": {
        "id": "2B_jcibwmYSD"
      },
      "execution_count": null,
      "outputs": []
    },
    {
      "cell_type": "code",
      "source": [
        "scores['test_accuracy']"
      ],
      "metadata": {
        "id": "VPwpeIQamYX6"
      },
      "execution_count": null,
      "outputs": []
    },
    {
      "cell_type": "code",
      "source": [
        "scores['estimator']"
      ],
      "metadata": {
        "id": "jaLDhhdtm_No"
      },
      "execution_count": null,
      "outputs": []
    },
    {
      "cell_type": "code",
      "source": [
        "for model in scores['estimator']:\n",
        "    print(model.coef_)"
      ],
      "metadata": {
        "id": "ZUyDvaMunCtw"
      },
      "execution_count": null,
      "outputs": []
    },
    {
      "cell_type": "markdown",
      "source": [
        "#####Hyperparameter Tuning"
      ],
      "metadata": {
        "id": "XycmCx2E7nn2"
      }
    },
    {
      "cell_type": "code",
      "source": [
        "logModel = LogisticRegression()"
      ],
      "metadata": {
        "id": "8Z_Zd0oP1rAW"
      },
      "execution_count": null,
      "outputs": []
    },
    {
      "cell_type": "code",
      "source": [
        "param_grid = [    \n",
        "    {'penalty' : ['l1', 'l2', 'elasticnet', 'none'],\n",
        "    'C' : np.logspace(1, 5, 10),\n",
        "    'solver' : ['lbfgs','newton-cg','liblinear','sag','saga'],\n",
        "    'max_iter' : [1000,2500, 5000,10000]\n",
        "    }\n",
        "]"
      ],
      "metadata": {
        "id": "s6MxXWi81rC2"
      },
      "execution_count": null,
      "outputs": []
    },
    {
      "cell_type": "code",
      "source": [
        "clf = GridSearchCV(logModel, param_grid = param_grid, cv = 3, verbose=True, n_jobs=-1)"
      ],
      "metadata": {
        "id": "Za9Tbhjy1rFV"
      },
      "execution_count": null,
      "outputs": []
    },
    {
      "cell_type": "code",
      "source": [
        "best_clf = clf.fit(x,y)"
      ],
      "metadata": {
        "id": "uCCNXlhT1rH9"
      },
      "execution_count": null,
      "outputs": []
    },
    {
      "cell_type": "code",
      "source": [
        "best_clf.best_estimator_"
      ],
      "metadata": {
        "id": "du3uWN5b1rKS"
      },
      "execution_count": null,
      "outputs": []
    },
    {
      "cell_type": "code",
      "source": [
        "print (f'Accuracy - : {best_clf.score(x,y):.3f}')"
      ],
      "metadata": {
        "id": "XHxjnlli1rMs"
      },
      "execution_count": null,
      "outputs": []
    },
    {
      "cell_type": "markdown",
      "source": [
        "##### Which hyperparameter optimization technique have you used and why?"
      ],
      "metadata": {
        "id": "PiV4Ypx8fxKe"
      }
    },
    {
      "cell_type": "markdown",
      "source": [
        "Here we use GridSearchCV Hyperparameter optimization technique for better accuracy score\n"
      ],
      "metadata": {
        "id": "negyGRa7fxKf"
      }
    },
    {
      "cell_type": "markdown",
      "source": [
        "##### Have you seen any improvement? Note down the improvement with updates Evaluation metric Score Chart."
      ],
      "metadata": {
        "id": "TfvqoZmBfxKf"
      }
    },
    {
      "cell_type": "markdown",
      "source": [
        "Ater hyperparameter optimization we not find any improvement in accuracy."
      ],
      "metadata": {
        "id": "OaLui8CcfxKf"
      }
    },
    {
      "cell_type": "markdown",
      "source": [
        "### ML Model - 2 Fitting Decision Tree Classifer"
      ],
      "metadata": {
        "id": "dJ2tPlVmpsJ0"
      }
    },
    {
      "cell_type": "markdown",
      "source": [
        "#### 1. Explain the ML Model used and it's performance using Evaluation metric Score Chart."
      ],
      "metadata": {
        "id": "JWYfwnehpsJ1"
      }
    },
    {
      "cell_type": "code",
      "source": [
        "#Initializing Decision Tree Model object\n",
        "decision_classify=DecisionTreeClassifier()"
      ],
      "metadata": {
        "id": "IQljR7J8jshc"
      },
      "execution_count": null,
      "outputs": []
    },
    {
      "cell_type": "code",
      "source": [
        "#Taining a model with x and y\n",
        "decision_classify.fit(x_train,y_train)"
      ],
      "metadata": {
        "id": "8fxVcSg1j0-P"
      },
      "execution_count": null,
      "outputs": []
    },
    {
      "cell_type": "code",
      "source": [
        "decision_classify.score(x_train,y_train)"
      ],
      "metadata": {
        "id": "YGHirg8okDRZ"
      },
      "execution_count": null,
      "outputs": []
    },
    {
      "cell_type": "code",
      "source": [
        "decision_classify.score(x_test,y_test)"
      ],
      "metadata": {
        "id": "ic5dfb8dkDVB"
      },
      "execution_count": null,
      "outputs": []
    },
    {
      "cell_type": "code",
      "source": [
        "# Visualizing evaluation Metric Score chart\n",
        "y_pred = decision_classify.predict(x_test)"
      ],
      "metadata": {
        "id": "yEl-hgQWpsJ1"
      },
      "execution_count": null,
      "outputs": []
    },
    {
      "cell_type": "code",
      "source": [
        "#report of decision tree \n",
        "report_dec_tree = classification_report(y_test, y_pred)\n",
        "print(report_dec_tree)\n",
        "dm = confusion_matrix(y_test, y_pred)\n",
        "sns.heatmap(dm,annot=True)"
      ],
      "metadata": {
        "id": "6KHU_39d3av7"
      },
      "execution_count": null,
      "outputs": []
    },
    {
      "cell_type": "markdown",
      "source": [
        "#### 2. Cross- Validation & Hyperparameter Tuning"
      ],
      "metadata": {
        "id": "-jK_YjpMpsJ2"
      }
    },
    {
      "cell_type": "code",
      "source": [
        "# ML Model - 1 Implementation with hyperparameter optimization techniques (i.e., GridSearch CV, RandomSearch CV, Bayesian Optimization etc.)\n",
        "\n",
        "# Fit the Algorithm\n",
        "\n",
        "# Predict on the model\n",
        "#setting the parameters and scoring metric\n",
        "parameters = {\"criterion\":[\"gini\",\"entropy\"],\"max_depth\":[5,7],\"min_samples_split\":[5,7],\"min_samples_leaf\":[2,3]}\n",
        "scoring_=['f1','recall','precision','accuracy']"
      ],
      "metadata": {
        "id": "Dn0EOfS6psJ2"
      },
      "execution_count": null,
      "outputs": []
    },
    {
      "cell_type": "code",
      "source": [
        "#performing hyperparameter tuning using gridsearchcv\n",
        "\n",
        "#setting an estimator,and crossvalidation\n",
        "tree_cv = GridSearchCV(estimator=decision_classify, param_grid=parameters, scoring=scoring_, cv=5,refit='accuracy')\n",
        "\n",
        "#Fitting x and y to gridsearchcv model using an estimator Decision tree classifier\n",
        "tree_cv.fit(x_train, y_train)"
      ],
      "metadata": {
        "id": "-_6d5lTL3_9-"
      },
      "execution_count": null,
      "outputs": []
    },
    {
      "cell_type": "code",
      "source": [
        "#calling an best params\n",
        "tree_cv.best_params_"
      ],
      "metadata": {
        "id": "EIfem0ar4AAd"
      },
      "execution_count": null,
      "outputs": []
    },
    {
      "cell_type": "code",
      "source": [
        "#calling an best score\n",
        "tree_cv.best_score_"
      ],
      "metadata": {
        "id": "LXPDtC5h4ADC"
      },
      "execution_count": null,
      "outputs": []
    },
    {
      "cell_type": "markdown",
      "source": [
        "##### Which hyperparameter optimization technique have you used and why?"
      ],
      "metadata": {
        "id": "HAih1iBOpsJ2"
      }
    },
    {
      "cell_type": "markdown",
      "source": [
        "**Here our model is Overfitted. So Hyperparameter tuning is done to prune a Decision tree to preserve Generalized Model.**\n",
        "\n",
        "* GridSearchCV is the process of performing hyperparameter tuning in order to determine the optimal values for a given model. As mentioned above, the performance of a model significantly depends on the value of hyperparameters. Note that there is no way to know in advance the best values for hyperparameters so ideally, we need to try all possible values to know the optimal values. Doing this manually could take a considerable amount of time and resources and thus we use GridSearchCV to automate the tuning of hyperparameters.\n"
      ],
      "metadata": {
        "id": "9kBgjYcdpsJ2"
      }
    },
    {
      "cell_type": "markdown",
      "source": [
        "##### Have you seen any improvement? Note down the improvement with updates Evaluation metric Score Chart."
      ],
      "metadata": {
        "id": "zVGeBEFhpsJ2"
      }
    },
    {
      "cell_type": "markdown",
      "source": [
        "***94% accuracy of Decision Tree with the help of hypermatring tunning.***"
      ],
      "metadata": {
        "id": "74yRdG6UpsJ3"
      }
    },
    {
      "cell_type": "markdown",
      "source": [
        "### ML Model - 3 Fitting Random Forest"
      ],
      "metadata": {
        "id": "Fze-IPXLpx6K"
      }
    },
    {
      "cell_type": "markdown",
      "source": [
        "#### 1. Explain the ML Model used and it's performance using Evaluation metric Score Chart."
      ],
      "metadata": {
        "id": "7AN1z2sKpx6M"
      }
    },
    {
      "cell_type": "code",
      "source": [
        "# ML Model - 3 Implementation\n",
        "\n",
        "# Fit the Algorithm\n",
        "\n",
        "# Predict on the model\n",
        "random_forest = RandomForestClassifier()\n",
        "random_forest.fit(x_train,y_train)"
      ],
      "metadata": {
        "id": "FFrSXAtrpx6M"
      },
      "execution_count": null,
      "outputs": []
    },
    {
      "cell_type": "code",
      "source": [
        "random_forest.score(x_test,y_test)"
      ],
      "metadata": {
        "id": "GW-XLqoA-g4d"
      },
      "execution_count": null,
      "outputs": []
    },
    {
      "cell_type": "markdown",
      "source": [
        "92% accuracy with Random Forest"
      ],
      "metadata": {
        "id": "KafcafQ15-Sg"
      }
    },
    {
      "cell_type": "code",
      "source": [
        "#report of decision tree \n",
        "report_ran_forest = classification_report(y_test, y_pred)\n",
        "print(report_ran_forest)\n",
        "cm = confusion_matrix(y_test, y_pred)\n",
        "sns.heatmap(cm,annot=True)"
      ],
      "metadata": {
        "id": "bc73urB2-g69"
      },
      "execution_count": null,
      "outputs": []
    },
    {
      "cell_type": "markdown",
      "source": [
        "#### 2. Cross- Validation & Hyperparameter Tuning"
      ],
      "metadata": {
        "id": "9PIHJqyupx6M"
      }
    },
    {
      "cell_type": "code",
      "source": [
        "# ML Model - 3 Implementation with hyperparameter optimization techniques (i.e., GridSearch CV, RandomSearch CV, Bayesian Optimization etc.)\n",
        "\n",
        "# Fit the Algorithm\n",
        "\n",
        "# Predict on the model\n",
        "random_forest_gridcv = GridSearchCV(estimator=random_forest,\n",
        "                       param_grid = parameters,\n",
        "                       cv = 5, verbose=2)"
      ],
      "metadata": {
        "id": "eSVXuaSKpx6M"
      },
      "execution_count": null,
      "outputs": []
    },
    {
      "cell_type": "code",
      "source": [
        "random_forest_gridcv.fit(x_train,y_train)"
      ],
      "metadata": {
        "id": "oRBdFPsR-4nF"
      },
      "execution_count": null,
      "outputs": []
    },
    {
      "cell_type": "code",
      "source": [
        "random_forest_gridcv.best_params_"
      ],
      "metadata": {
        "id": "ThBlMpQb-4wT"
      },
      "execution_count": null,
      "outputs": []
    },
    {
      "cell_type": "code",
      "source": [
        "#calling an best score\n",
        "random_forest_gridcv.best_score_"
      ],
      "metadata": {
        "id": "Fcn4lNRPqOcv"
      },
      "execution_count": null,
      "outputs": []
    },
    {
      "cell_type": "markdown",
      "source": [
        "##### Which hyperparameter optimization technique have you used and why?"
      ],
      "metadata": {
        "id": "_-qAgymDpx6N"
      }
    },
    {
      "cell_type": "markdown",
      "source": [
        "Here we used GridSearchCv for improve the accuracy"
      ],
      "metadata": {
        "id": "lQMffxkwpx6N"
      }
    },
    {
      "cell_type": "markdown",
      "source": [
        "##### Have you seen any improvement?"
      ],
      "metadata": {
        "id": "Z-hykwinpx6N"
      }
    },
    {
      "cell_type": "markdown",
      "source": [
        "**After Hypermeter tuning we get a better score and the accuracy is 94%.**"
      ],
      "metadata": {
        "id": "MzVzZC6opx6N"
      }
    },
    {
      "cell_type": "markdown",
      "source": [
        "###ML Model - 4 K-Nearest Neighbour"
      ],
      "metadata": {
        "id": "OFEu2FxKaqJc"
      }
    },
    {
      "cell_type": "markdown",
      "source": [
        "#### 1. Explain the ML Model used and it's performance using Evaluation metric Score Chart."
      ],
      "metadata": {
        "id": "qzLLMQVKg9qE"
      }
    },
    {
      "cell_type": "code",
      "source": [
        "# ML Model - 3 Implementation\n",
        "\n",
        "# Fit the Algorithm\n",
        "\n",
        "# Predict on the model\n",
        "k_neighbor=KNeighborsClassifier()\n",
        "k_neighbor.fit(x_train,y_train)"
      ],
      "metadata": {
        "id": "ceiErPDaa61U"
      },
      "execution_count": null,
      "outputs": []
    },
    {
      "cell_type": "code",
      "source": [
        "y_predict=k_neighbor.predict(x_test)"
      ],
      "metadata": {
        "id": "L4zxc8IhbVgU"
      },
      "execution_count": null,
      "outputs": []
    },
    {
      "cell_type": "code",
      "source": [
        "# Compute accuracy on the training set\n",
        "train_accuracy=k_neighbor.score(x_train,y_train)\n",
        "print(train_accuracy)\n",
        "# Compute accuracy on the training set\n",
        "test_accuracy=k_neighbor.score(x_test,y_test)\n",
        "print(test_accuracy)"
      ],
      "metadata": {
        "id": "D8p0u5-HbVo6"
      },
      "execution_count": null,
      "outputs": []
    },
    {
      "cell_type": "markdown",
      "source": [
        "Train accuracy-95%.\n",
        "\n",
        "Test accuracy-93%."
      ],
      "metadata": {
        "id": "Ibr5IAnZ8ET9"
      }
    },
    {
      "cell_type": "code",
      "source": [
        "#cofusion matrix of k_neighbor  \n",
        "confuse_matrix_k_neighbor  = confusion_matrix(y_test,y_pred)\n",
        "print(confuse_matrix_k_neighbor)\n",
        "sns.heatmap(confuse_matrix_k_neighbor,annot=True)"
      ],
      "metadata": {
        "id": "HaLoDDU9hE0W"
      },
      "execution_count": null,
      "outputs": []
    },
    {
      "cell_type": "code",
      "source": [
        "# Area under ROC curve\n",
        "roc_auc_score(y_test,y_pred)"
      ],
      "metadata": {
        "id": "Hw012CiQhE3q"
      },
      "execution_count": null,
      "outputs": []
    },
    {
      "cell_type": "markdown",
      "source": [
        "#### 2.Hyperparameter Tuning"
      ],
      "metadata": {
        "id": "fb9ixwSrjuFO"
      }
    },
    {
      "cell_type": "code",
      "source": [
        "# Import GridSearchCV\n",
        "from sklearn.model_selection import GridSearchCV"
      ],
      "metadata": {
        "id": "L74L7T9AjZPO"
      },
      "execution_count": null,
      "outputs": []
    },
    {
      "cell_type": "code",
      "source": [
        "# In case of classifier like knn the parameter to be tuned is n_neighbors\n",
        "param_grid = {'n_neighbors':np.arange(1,50)}"
      ],
      "metadata": {
        "id": "Yn79SGtIkEsg"
      },
      "execution_count": null,
      "outputs": []
    },
    {
      "cell_type": "code",
      "source": [
        "knn = KNeighborsClassifier()\n",
        "knn_cv= GridSearchCV(knn,param_grid,cv=5)\n",
        "knn_cv.fit(x,y)"
      ],
      "metadata": {
        "id": "Xqg-12YujZRo"
      },
      "execution_count": null,
      "outputs": []
    },
    {
      "cell_type": "code",
      "source": [
        "knn_cv.best_score_"
      ],
      "metadata": {
        "id": "OwYafVSwjZUC"
      },
      "execution_count": null,
      "outputs": []
    },
    {
      "cell_type": "code",
      "source": [
        "knn_cv.best_params_"
      ],
      "metadata": {
        "id": "WFUv3d_HjZW2"
      },
      "execution_count": null,
      "outputs": []
    },
    {
      "cell_type": "markdown",
      "source": [
        "##### Which hyperparameter optimization technique have you used and why?"
      ],
      "metadata": {
        "id": "9M0UStWC7pfk"
      }
    },
    {
      "cell_type": "markdown",
      "source": [
        "Here we used GridSearchCv for improve the accuracy"
      ],
      "metadata": {
        "id": "J7TWMuzA7sND"
      }
    },
    {
      "cell_type": "markdown",
      "source": [
        "##### Have you seen any improvement?"
      ],
      "metadata": {
        "id": "q1NRKnt97sfy"
      }
    },
    {
      "cell_type": "markdown",
      "source": [
        "**After using Hypermeter tuning we get a better accuracy score and the accuracy is 94%.**"
      ],
      "metadata": {
        "id": "_qf7gKsG65q8"
      }
    },
    {
      "cell_type": "markdown",
      "source": [
        "###ML Model - 5 Naive Bayes Classifier"
      ],
      "metadata": {
        "id": "heVVxVWalj0p"
      }
    },
    {
      "cell_type": "code",
      "source": [
        "#Implimanting naive bayes model\n",
        "naive_bayes = GaussianNB()\n",
        "naive_bayes.fit(x_train, y_train)"
      ],
      "metadata": {
        "id": "LE-JC4eAlxUm"
      },
      "execution_count": null,
      "outputs": []
    },
    {
      "cell_type": "code",
      "source": [
        "#score for naive bayes\n",
        "naive_bayes.score(x_train,y_train)"
      ],
      "metadata": {
        "id": "SG_SNySZlxfL"
      },
      "execution_count": null,
      "outputs": []
    },
    {
      "cell_type": "code",
      "source": [
        "# making predictions on the testing set\n",
        "y_pred = naive_bayes.predict(x_test)"
      ],
      "metadata": {
        "id": "PI8YmSeXl8YF"
      },
      "execution_count": null,
      "outputs": []
    },
    {
      "cell_type": "code",
      "source": [
        "y_pred"
      ],
      "metadata": {
        "id": "WHUVq_yH8wID"
      },
      "execution_count": null,
      "outputs": []
    },
    {
      "cell_type": "code",
      "source": [
        "# comparing actual response values (y_test) with predicted response values (y_pred)\n",
        "from sklearn import metrics\n",
        "print(\"Gaussian Naive Bayes model accuracy:\", metrics.accuracy_score(y_test, y_pred))"
      ],
      "metadata": {
        "id": "vQu1rDRmmBJv"
      },
      "execution_count": null,
      "outputs": []
    },
    {
      "cell_type": "code",
      "source": [
        "#confusion matrix\n",
        "naive_bayes_con_mat = confusion_matrix( y_test,y_pred)\n",
        "print(naive_bayes_con_mat)\n",
        "sns.heatmap(naive_bayes_con_mat,annot=True)"
      ],
      "metadata": {
        "id": "HvUpLg_M0m2x"
      },
      "execution_count": null,
      "outputs": []
    },
    {
      "cell_type": "markdown",
      "source": [
        "91% accuracy with naive bayes classifie"
      ],
      "metadata": {
        "id": "1CCHZDBSmIeW"
      }
    },
    {
      "cell_type": "markdown",
      "source": [
        "###ML Model - 6 Support Vector Machine"
      ],
      "metadata": {
        "id": "2kcY3SwvmNM-"
      }
    },
    {
      "cell_type": "code",
      "source": [
        "support_vector = SVC(kernel='linear')\n",
        "support_vector.fit(x_train, y_train)"
      ],
      "metadata": {
        "id": "LUp3hh5umY9Z"
      },
      "execution_count": null,
      "outputs": []
    },
    {
      "cell_type": "code",
      "source": [
        "support_vector.score(x_test, y_test)"
      ],
      "metadata": {
        "id": "qXMvokmXmZCw"
      },
      "execution_count": null,
      "outputs": []
    },
    {
      "cell_type": "code",
      "source": [
        "y_pred = support_vector.predict(x_test)"
      ],
      "metadata": {
        "id": "8o8wr_I-mZHi"
      },
      "execution_count": null,
      "outputs": []
    },
    {
      "cell_type": "code",
      "source": [
        "y_pred"
      ],
      "metadata": {
        "id": "FZp1Wk680rxv"
      },
      "execution_count": null,
      "outputs": []
    },
    {
      "cell_type": "code",
      "source": [
        "#confusion matrix\n",
        "support_vector_con_mat = confusion_matrix( y_test,y_pred)\n",
        "print(support_vector_con_mat)\n",
        "sns.heatmap(support_vector_con_mat,annot=True)"
      ],
      "metadata": {
        "id": "AUBZ9hrEmnkF"
      },
      "execution_count": null,
      "outputs": []
    },
    {
      "cell_type": "markdown",
      "source": [],
      "metadata": {
        "id": "UH-BojpBPoFC"
      }
    },
    {
      "cell_type": "markdown",
      "source": [
        "93% accuracy with support vector machine"
      ],
      "metadata": {
        "id": "1UXrCmY5mrNU"
      }
    },
    {
      "cell_type": "markdown",
      "source": [
        "### 1. Which Evaluation metrics did you consider for a positive business impact and why?"
      ],
      "metadata": {
        "id": "nR3fHHxdRi7e"
      }
    },
    {
      "cell_type": "markdown",
      "source": [
        "* I would like to go with Precision.\n",
        "* model evaluation metrics comparison, we can see that K-Nearest Machine being the model with highest accuracy rate by a very small margin, works best among the experimented models for the given dataset.\n",
        "---------\n",
        "* Accuracy : Accuracy will require two inputs (i) actual class labels (ii)predicted class labels. To get the class labels from probabilities( these probabilities will be probabilities of getting a HIT), you can take a threshold of 0.5. Any probability above 0.5 will be labeled as class 1 and anything less than 0.5 will be labeled as class 0.\n",
        "* Precision : Precision for a label is defined as the number of true positives divided by the number of predicted positives. Report precision in percentages.\n",
        "* Recall : Recall for a label is defined as the number of true positives divided by the total number of actual positives. Report recall in percentages.\n",
        "* F1-Score : This is defined as the harmonic mean of precision and recall"
      ],
      "metadata": {
        "id": "jz8nhMiCRlQu"
      }
    },
    {
      "cell_type": "markdown",
      "source": [
        "### 2. Which ML model did you choose from the above created models as your final prediction model and why?"
      ],
      "metadata": {
        "id": "cBFFvTBNJzUa"
      }
    },
    {
      "cell_type": "code",
      "source": [
        "#Creating a function to return all Models Accuracy Score \n",
        "\n",
        "def accuracy_of_each_model(model,X_train,X_test):\n",
        "\n",
        "  #predicting a train datas\n",
        "  y_train_preds=model.predict(X_train)\n",
        "\n",
        "  #predicting a test datas\n",
        "  y_test_preds=model.predict(X_test)\n",
        "\n",
        "  #storing all training scores\n",
        "  train_scores=[]\n",
        "\n",
        "  #storing all test scores\n",
        "  test_scores=[]\n",
        "  metrics=['Accuracy_Score','Precsion_Score','Recall_Score','Roc_Auc_Score']\n",
        "\n",
        "  # Get the accuracy scores\n",
        "  train_accuracy_score = accuracy_score(y_train,y_train_preds)\n",
        "  test_accuracy_score = accuracy_score(y_test,y_test_preds)\n",
        "  \n",
        "  train_scores.append(train_accuracy_score)\n",
        "  test_scores.append(test_accuracy_score)\n",
        "  # Get the precision scores\n",
        "  train_precision_score = precision_score(y_train,y_train_preds)\n",
        "  test_precision_score = precision_score(y_test,y_test_preds)\n",
        "\n",
        "  train_scores.append(train_precision_score)\n",
        "  test_scores.append(test_precision_score)\n",
        "\n",
        "  # Get the recall scores\n",
        "  train_recall_score =recall_score(y_train,y_train_preds)\n",
        "  test_recall_score =recall_score(y_test,y_test_preds)\n",
        "\n",
        "  train_scores.append(train_recall_score)\n",
        "  test_scores.append(test_recall_score)\n",
        "\n",
        "  # Get the roc_auc scores\n",
        "  train_roc_auc_score=roc_auc_score(y_train,y_train_preds)\n",
        "  test_roc_auc_score =roc_auc_score(y_test,y_test_preds)\n",
        "\n",
        "  train_scores.append(train_roc_auc_score)\n",
        "  test_scores.append(test_roc_auc_score)\n",
        "\n",
        "  return train_scores,test_scores,metrics\n"
      ],
      "metadata": {
        "id": "q8Dz1RTb9KMW"
      },
      "execution_count": null,
      "outputs": []
    },
    {
      "cell_type": "code",
      "source": [
        "models=[log_reg,tree_cv,random_forest_gridcv,knn_cv,naive_bayes,support_vector]\n",
        "name=['Logistic Regression Model','Decision Tree Model After Hyperparameter Tuning','Random Forest Model After Hyperparameter Tuning','Knn Model After Hyperparameter Tuning','Naive BayesModel','Support vector model']"
      ],
      "metadata": {
        "id": "cMW8SlTE9KiO"
      },
      "execution_count": null,
      "outputs": []
    },
    {
      "cell_type": "code",
      "source": [
        "for model_ in range(len(models)):\n",
        "  train_score_,test_score_,metrics_=accuracy_of_each_model(models[model_],x_train,x_test)\n",
        "  print(\"-----\"*3+f\"{name[model_]}\"+\"-----\"*3)\n",
        "  print(\"\")\n",
        "  print(pd.DataFrame(data={'Metrics':metrics_,'Train_Score':train_score_,'Test_Score':test_score_}))\n",
        "  print(\"\")"
      ],
      "metadata": {
        "id": "MRdZeiQQ9LCl"
      },
      "execution_count": null,
      "outputs": []
    },
    {
      "cell_type": "markdown",
      "source": [
        "* From the above snap shot, we can clearly see that for the accuracy and roc auc score is improved for K-Nearest Neighbors.\n",
        "So, I have chosen K-Nearest Neighbors as the final prdiction model which should be deployed for real user interaction.\n",
        "* All the others model are also perform well in this dataset but I chose K-Nearest Neighbors model.\n"
      ],
      "metadata": {
        "id": "jHVz9hHDKFms"
      }
    },
    {
      "cell_type": "markdown",
      "source": [
        "### 3. Explain the model which you have used and the feature importance using any model explainability tool?"
      ],
      "metadata": {
        "id": "zosx0Wx0Q9w-"
      }
    },
    {
      "cell_type": "code",
      "source": [
        "# Initialize JavaScript visualizations in notebook environment\n",
        "shap.initjs()\n",
        "# Define a tree explainer for the built model\n",
        "explainer = shap.TreeExplainer(decision_classify)\n",
        "# obtain shap values for the first row of the test data\n",
        "shap_values = explainer.shap_values(x_test)"
      ],
      "metadata": {
        "id": "SvXTWKL4ixDn"
      },
      "execution_count": null,
      "outputs": []
    },
    {
      "cell_type": "code",
      "source": [
        "# Initialize JavaScript visualizations in notebook environment\n",
        "shap.initjs()\n",
        "# Forceplot for first observation\n",
        "shap.force_plot(explainer.expected_value[0], shap_values[0], x_test.iloc[0])"
      ],
      "metadata": {
        "id": "Z-pXyMupn5xa"
      },
      "execution_count": null,
      "outputs": []
    },
    {
      "cell_type": "code",
      "source": [
        "x_test.mean()"
      ],
      "metadata": {
        "id": "z7VorfdakSFI"
      },
      "execution_count": null,
      "outputs": []
    },
    {
      "cell_type": "code",
      "source": [
        "# Obtain a Scatter Summary Plot \n",
        "shap_values = shap.TreeExplainer(decision_classify).shap_values(x_test)\n",
        "shap.summary_plot(shap_values[0], x_test)"
      ],
      "metadata": {
        "id": "QbVpV-t6kSIV"
      },
      "execution_count": null,
      "outputs": []
    },
    {
      "cell_type": "markdown",
      "source": [
        "This plot is made of all the dots in the train data. It demonstrates the following information:\n",
        "\n",
        "* Feature importance: Variables are ranked in descending order.\n",
        "\n",
        "* Impact: The horizontal location shows whether the effect of that value is associated with a higher or lower prediction.\n",
        "\n",
        "* Original value: Color shows whether that variable is high (in red) or low (in blue) for that observation.\n",
        "\n",
        "* Red indicates a higher and blue indicates a lower . From the X-axis we can verify the impact (Positive or Negative) for that specific data."
      ],
      "metadata": {
        "id": "-WS4c5HTlKcs"
      }
    },
    {
      "cell_type": "code",
      "source": [
        "# Obtain a Bar Summary Plot\n",
        "shap.summary_plot(shap_values, x_train, plot_type=\"bar\")"
      ],
      "metadata": {
        "id": "CQPNVJATkli3"
      },
      "execution_count": null,
      "outputs": []
    },
    {
      "cell_type": "markdown",
      "source": [
        "A variable importance plot lists the most significant variables in descending order. The top variables contribute more to the model than the bottom ones and thus have high predictive power.\n",
        "\n",
        "Here, we can see the feature importance for respective classes in a descending order"
      ],
      "metadata": {
        "id": "eWxYwpc6lfjJ"
      }
    },
    {
      "cell_type": "markdown",
      "source": [
        "The most important feature are overall rating and Value for money that contribute to a model's prediction whether a passenger will recommened a particular airline to his/her friends."
      ],
      "metadata": {
        "id": "QNcZFnJ8RAqI"
      }
    },
    {
      "cell_type": "markdown",
      "source": [
        "# **Conclusion**"
      ],
      "metadata": {
        "id": "gCX9965dhzqZ"
      }
    },
    {
      "cell_type": "markdown",
      "source": [
        "The Models used for this Classsification problem are\n",
        "\n",
        "1. Logistic Regression Model\n",
        "2. Decision Tree Model\n",
        "3. Random Forest Model\n",
        "4. K-Nearest Neighbor Model\n",
        "5. Naive Bayes\n",
        "6. Support Vector Machine Model\n",
        "\n",
        "* We performed Hyperparameter tuning using Gridsearch CV method for Decision Tree Model, Random Forest Model , K-Nearest Neighbor ,Support Vector Machine and Naive Bayes. To increase accuracy and avoid Overfitting Criteria.\n",
        "\n",
        "* Based on the knowledge of the business and the problem usecase. The Classification metrics of Recall is given first priority , Accuray is given second priority , and ROC AUC is given third priority.\n",
        "\n",
        "* We have built classifier models using 6 different types of classifiers and all these are able to give accuracy of more than 90%.* We can conclude that Decission Tree gives the best model.\n",
        "\n",
        "* model evaluation metrics comparison, we can see that Support Vector Machine being the model with highest accuracy rate by a very small margin, works best among the experimented models for the given dataset.\n",
        "\n",
        "* The most important feature are overall rating and Value for money that contribute to a model's prediction whether a passenger will recommened a particular airline to his/her friends.\n",
        "\n",
        "* The classifier models developed can be used to predict passenger referral as it will give airlines ability to identify impactful passengers who can help in bringing more revenues.\n",
        "\n",
        "* As a result, in order to increase their business or grow, our client must provide excellent cabin service, ground service, food beverage entertainment, and seat comfort."
      ],
      "metadata": {
        "id": "Fjb1IsQkh3yE"
      }
    },
    {
      "cell_type": "markdown",
      "source": [
        "### ***Hurrah! You have successfully completed your Machine Learning Capstone Project !!!***"
      ],
      "metadata": {
        "id": "gIfDvo9L0UH2"
      }
    }
  ]
}